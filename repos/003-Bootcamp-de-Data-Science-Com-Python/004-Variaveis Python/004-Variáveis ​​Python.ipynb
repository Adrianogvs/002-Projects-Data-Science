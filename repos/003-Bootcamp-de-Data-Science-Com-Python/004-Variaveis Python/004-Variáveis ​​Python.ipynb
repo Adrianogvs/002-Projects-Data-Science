{
 "cells": [
  {
   "cell_type": "markdown",
   "metadata": {},
   "source": [
    "## Variáveis ​​Python"
   ]
  },
  {
   "cell_type": "markdown",
   "metadata": {},
   "source": [
    "#### Variáveis"
   ]
  },
  {
   "cell_type": "markdown",
   "metadata": {},
   "source": [
    "Variáveis ​​são contêineres para armazenar valores de dados."
   ]
  },
  {
   "cell_type": "markdown",
   "metadata": {},
   "source": [
    "#### Criando variáveis"
   ]
  },
  {
   "cell_type": "markdown",
   "metadata": {},
   "source": [
    "Python não tem comando para declarar uma variável.\n",
    "\n",
    "Uma variável é criada no momento em que você atribui um valor a ela.\n",
    "\n",
    "Exemplo:<p>\n",
    "x = 5<p>\n",
    "y = \"John\"<p>\n",
    "print(x)<p>\n",
    "print(y)<p>\n",
    "\n",
    "As variáveis ​​não precisam ser declaradas com nenhum tipo específico e podem até mudar de tipo depois de terem sido definidas.\n",
    "\n",
    "Exemplo:<p>\n",
    "x = 4&emsp;&emsp;&ensp;&emsp;# x é o tipo int<p>\n",
    "x = \"Sally\" &emsp;# x agora é do tipo str<p>\n",
    "print(x)<p>\n"
   ]
  },
  {
   "cell_type": "markdown",
   "metadata": {},
   "source": [
    "#### Conversão do tipo de dados"
   ]
  },
  {
   "cell_type": "markdown",
   "metadata": {},
   "source": [
    "Se você deseja especificar o tipo de dados de uma variável, isso pode ser feito com conversão.\n",
    "\n",
    "Exemplo:<p>\n",
    "x = str(3)&emsp;&ensp;# x  vai ser '3'<p>\n",
    "y = int(3)&emsp;&ensp;# y vai ser 3<p>\n",
    "z = float(3)&emsp;# z vai ser 3.0<p>"
   ]
  },
  {
   "cell_type": "markdown",
   "metadata": {},
   "source": [
    "#### Verificar Tipo de Dado"
   ]
  },
  {
   "cell_type": "markdown",
   "metadata": {},
   "source": [
    "Você pode obter o tipo de dados de uma variável com a type()função.\n",
    "\n",
    "Exemplo:<p>\n",
    "x = 5<p>\n",
    "y = \"John\"<p>\n",
    "print(type(x))<p>\n",
    "print(type(y))<p>\n"
   ]
  },
  {
   "cell_type": "markdown",
   "metadata": {},
   "source": [
    "#### Citações simples ou duplas?"
   ]
  },
  {
   "cell_type": "markdown",
   "metadata": {},
   "source": [
    "Variáveis ​​de string podem ser declaradas usando aspas simples ou duplas:\n",
    "\n",
    "Exemplo:<p>\n",
    "x = \"John\" <p>\n",
    "#é o mesmo que<p>\n",
    "x = 'John'<p>"
   ]
  },
  {
   "cell_type": "markdown",
   "metadata": {},
   "source": [
    "#### Maiúsculas e Minúsculas"
   ]
  },
  {
   "cell_type": "markdown",
   "metadata": {},
   "source": [
    "Os nomes de variáveis ​​diferenciam maiúsculas de minúsculas.\n",
    "\n",
    "Exemplo:<p>\n",
    "Isso criará duas variáveis:\n",
    "\n",
    "a = 4<p>\n",
    "A = \"Sally\"<p>\n",
    "#A não vai sobrescrever a<p>"
   ]
  },
  {
   "cell_type": "markdown",
   "metadata": {},
   "source": [
    "#### Nomes de Variáveis"
   ]
  },
  {
   "cell_type": "markdown",
   "metadata": {},
   "source": [
    "Uma variável pode ter um nome curto (como x e y) ou um nome mais descritivo (age, carname, total_volume). Regras para variáveis ​​Python:\n",
    "- Um nome de variável deve começar com uma letra ou o caractere sublinhado\n",
    "- Um nome de variável não pode começar com um número\n",
    "- Um nome de variável pode conter apenas caracteres alfanuméricos e sublinhados (Az, 0-9 e _ )\n",
    "- Os nomes das variáveis ​​diferenciam maiúsculas de minúsculas (idade, idade e IDADE são três variáveis ​​diferentes)"
   ]
  },
  {
   "cell_type": "code",
   "execution_count": 1,
   "metadata": {},
   "outputs": [],
   "source": [
    "# Exemplo:\n",
    "# Nomes de variáveis ​​legais:\n",
    "\n",
    "myvar = \"John\"\n",
    "my_var = \"John\"\n",
    "_my_var = \"John\"\n",
    "myVar = \"John\"\n",
    "MYVAR = \"John\"\n",
    "myvar2 = \"John\""
   ]
  },
  {
   "cell_type": "code",
   "execution_count": null,
   "metadata": {},
   "outputs": [],
   "source": []
  }
 ],
 "metadata": {
  "interpreter": {
   "hash": "3bb03df91ec1981933db38e9cd509750fbcc8736096f2f96108c21544a6fd7c7"
  },
  "kernelspec": {
   "display_name": "Python 3.10.2 64-bit",
   "language": "python",
   "name": "python3"
  },
  "language_info": {
   "codemirror_mode": {
    "name": "ipython",
    "version": 3
   },
   "file_extension": ".py",
   "mimetype": "text/x-python",
   "name": "python",
   "nbconvert_exporter": "python",
   "pygments_lexer": "ipython3",
   "version": "3.10.2"
  },
  "orig_nbformat": 4
 },
 "nbformat": 4,
 "nbformat_minor": 2
}
