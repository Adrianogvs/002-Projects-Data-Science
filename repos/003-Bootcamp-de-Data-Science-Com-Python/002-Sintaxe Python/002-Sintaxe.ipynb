{
 "cells": [
  {
   "cell_type": "markdown",
   "metadata": {},
   "source": [
    "## Sintaxe do Python"
   ]
  },
  {
   "cell_type": "markdown",
   "metadata": {},
   "source": [
    "#### Executar sintaxe do Python"
   ]
  },
  {
   "cell_type": "markdown",
   "metadata": {},
   "source": [
    "Como aprendemos na página anterior, a sintaxe do Python pode ser executada escrevendo diretamente na linha de comando:\n",
    "\n",
    "print(\"Hello, World!\")<br>\n",
    "Hello, World!\n",
    "\n",
    "Ou criando um arquivo python no servidor, usando a extensão de arquivo .py ou ipynb e executando-o na linha de comando:\n",
    "\n",
    "C:\\Users\\Your Name>python myfile.py"
   ]
  },
  {
   "cell_type": "markdown",
   "metadata": {},
   "source": [
    "#### Recuo Python"
   ]
  },
  {
   "cell_type": "markdown",
   "metadata": {},
   "source": [
    "O recuo refere-se aos espaços no início de uma linha de código.\n",
    "\n",
    "Onde em outras linguagens de programação o recuo no código é apenas para legibilidade, o recuo em Python é muito importante.\n",
    "\n",
    "Python usa recuo para indicar um bloco de código.\n",
    "\n",
    "Exemplo:<br>\n",
    "<p> if 5 > 2:<br>\n",
    "&emsp; print(\"Cinco é maior que dois!\")<br>"
   ]
  },
  {
   "cell_type": "markdown",
   "metadata": {},
   "source": [
    "Em Python, as variáveis ​​são criadas quando você atribui um valor a ela:\n",
    "\n",
    "Exemplo\n",
    "Variáveis ​​em Python:\n",
    "\n",
    "x = 5\n",
    "y = \"Hello, World!\""
   ]
  },
  {
   "cell_type": "markdown",
   "metadata": {},
   "source": []
  }
 ],
 "metadata": {
  "language_info": {
   "name": "python"
  },
  "orig_nbformat": 4
 },
 "nbformat": 4,
 "nbformat_minor": 2
}
