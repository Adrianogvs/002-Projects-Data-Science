{
 "cells": [
  {
   "cell_type": "markdown",
   "metadata": {},
   "source": [
    "##  Introdução ao Python"
   ]
  },
  {
   "cell_type": "markdown",
   "metadata": {},
   "source": [
    "#### O que é Python?"
   ]
  },
  {
   "cell_type": "markdown",
   "metadata": {},
   "source": [
    "Python é uma linguagem de programação popular. Foi criado por Guido van Rossum e lançado em 1991.\n",
    "\n",
    "É usado para:\n",
    "\n",
    "- Desenvolvimento web (lado do servidor),\n",
    "- Desenvolvimento de software,\n",
    "- Matemática,\n",
    "- Script do sistema."
   ]
  },
  {
   "cell_type": "markdown",
   "metadata": {},
   "source": [
    "#### O que o Python pode fazer?"
   ]
  },
  {
   "cell_type": "markdown",
   "metadata": {},
   "source": [
    "- Python pode ser usado em um servidor para criar aplicativos da web.\n",
    "- O Python pode ser usado junto com o software para criar fluxos de trabalho.\n",
    "- Python pode se conectar a sistemas de banco de dados. Ele também pode ler e modificar arquivos.\n",
    "- Python pode ser usado para lidar com big data e realizar matemática complexa.\n",
    "- Python pode ser usado para prototipagem rápida ou para desenvolvimento de software pronto para produção."
   ]
  },
  {
   "cell_type": "markdown",
   "metadata": {},
   "source": [
    "#### Por que Python?"
   ]
  },
  {
   "cell_type": "markdown",
   "metadata": {},
   "source": [
    "- Python funciona em diferentes plataformas (Windows, Mac, Linux, Raspberry Pi, etc).\n",
    "- Python tem uma sintaxe simples semelhante ao idioma inglês.\n",
    "- Python tem sintaxe que permite aos desenvolvedores escrever programas com menos linhas do que algumas outras linguagens de programação.\n",
    "- Python é executado em um sistema interpretador, o que significa que o código pode ser executado assim que for escrito. Isso significa que a prototipagem pode ser muito rápida.\n",
    "- Python pode ser tratado de forma procedural, orientada a objetos ou funcional."
   ]
  },
  {
   "cell_type": "markdown",
   "metadata": {},
   "source": [
    "#### Bom saber"
   ]
  },
  {
   "cell_type": "markdown",
   "metadata": {},
   "source": [
    "- A versão principal mais recente do Python é o Python 3, que usaremos neste tutorial. No entanto, o Python 2, embora não seja atualizado com nada além de atualizações de segurança, ainda é bastante popular.\n",
    "- Neste tutorial Python será escrito em um editor de texto. É possível escrever Python em um ambiente de desenvolvimento integrado, como Thonny, Pycharm, Netbeans ou Eclipse, que são particularmente úteis ao gerenciar coleções maiores de arquivos Python."
   ]
  },
  {
   "cell_type": "markdown",
   "metadata": {},
   "source": [
    "#### Sintaxe do Python em comparação com outras linguagens de programação"
   ]
  },
  {
   "cell_type": "markdown",
   "metadata": {},
   "source": [
    "- O Python foi projetado para facilitar a leitura e possui algumas semelhanças com o idioma inglês com influência da matemática.\n",
    "- Python usa novas linhas para completar um comando, ao contrário de outras linguagens de programação que geralmente usam ponto e vírgula ou parênteses.\n",
    "- Python depende de recuo, usando espaço em branco, para definir o escopo; como o escopo de loops, funções e classes. Outras linguagens de programação costumam usar colchetes para essa finalidade."
   ]
  },
  {
   "cell_type": "markdown",
   "metadata": {},
   "source": [
    "#### Exemplo:"
   ]
  },
  {
   "cell_type": "markdown",
   "metadata": {},
   "source": [
    "print(\"Hello, World!\")"
   ]
  },
  {
   "cell_type": "markdown",
   "metadata": {},
   "source": [
    "#### Instalação do Python"
   ]
  },
  {
   "cell_type": "markdown",
   "metadata": {},
   "source": [
    "Muitos PCs e Macs terão o python já instalado.\n",
    "\n",
    "Para verificar se você tem o python instalado em um PC com Windows, pesquise na barra inicial por Python ou execute o seguinte na linha de comando (cmd.exe):\n",
    "\n",
    "C:\\Users\\Your Name>python --version\n",
    "Para verificar se você tem o python instalado em um Linux ou Mac, então no linux abra a linha de comando ou no Mac abra o Terminal e digite:\n",
    "\n",
    "python --version\n",
    "Se você achar que não tem o Python instalado em seu computador, você pode baixá-lo gratuitamente no seguinte site: https://www.python.org/"
   ]
  },
  {
   "cell_type": "markdown",
   "metadata": {},
   "source": [
    "#### Guia de início rápido do Python"
   ]
  },
  {
   "cell_type": "markdown",
   "metadata": {},
   "source": [
    "Python é uma linguagem de programação interpretada, isso significa que, como desenvolvedor, você escreve arquivos Python (.py) em um editor de texto e depois coloca esses arquivos no interpretador python para serem executados.\n",
    "\n",
    "A maneira de executar um arquivo python é assim na linha de comando:\n",
    "\n",
    "C:\\Users\\Your Name>python helloworld.py\n",
    "Onde \"helloworld.py\" é o nome do seu arquivo python.\n",
    "\n",
    "Vamos escrever nosso primeiro arquivo Python, chamado helloworld.py, que pode ser feito em qualquer editor de texto.\n",
    "\n",
    "helloworld.py\n",
    "\n",
    "print(\"Hello, World!\")\n",
    "\n",
    "Simples assim. Salve seu arquivo. Abra sua linha de comando, navegue até o diretório onde você salvou seu arquivo e execute:\n",
    "\n",
    "C:\\Users\\Your Name>python helloworld.py\n",
    "A saída deve ser:\n",
    "\n",
    "Hello, World!\n",
    "\n",
    "Parabéns, você escreveu e executou seu primeiro programa Python."
   ]
  },
  {
   "cell_type": "markdown",
   "metadata": {},
   "source": [
    "#### A linha de comando do Python"
   ]
  },
  {
   "cell_type": "markdown",
   "metadata": {},
   "source": [
    "Para testar uma pequena quantidade de código em python, às vezes é mais rápido e fácil não escrever o código em um arquivo. Isso é possível porque o Python pode ser executado como uma linha de comando.\n",
    "\n",
    "Digite o seguinte na linha de comando do Windows, Mac ou Linux:\n",
    "\n",
    "C:\\Users\\Your Name>python\n",
    "Ou, se o comando \"python\" não funcionou, você pode tentar \"py\":\n",
    "C:\\Users\\Your Name>py\n",
    "A partir daí, você pode escrever qualquer python, incluindo nosso exemplo hello world do início do tutorial:\n",
    "\n",
    "C:\\Users\\Your Name>python\n",
    "Python 3.6.4 (v3.6.4:d48eceb, Dec 19 2017, 06:04:45) [MSC v.1900 32 bit (Intel)] on win32\n",
    "Type \"help\", \"copyright\", \"credits\" or \"license\" for more information.\n",
    ">>> print(\"Hello, World!\")\n",
    "Que escreverá \"Hello, World!\" na linha de comando:\n",
    "\n",
    "C:\\Users\\Your Name>python\n",
    "Python 3.6.4 (v3.6.4:d48eceb, Dec 19 2017, 06:04:45) [MSC v.1900 32 bit (Intel)] on win32\n",
    "Type \"help\", \"copyright\", \"credits\" or \"license\" for more information.\n",
    ">>> print(\"Hello, World!\")\n",
    "Hello, World!\n",
    "Sempre que você terminar na linha de comando do python, você pode simplesmente digitar o seguinte para sair da interface da linha de comando do python:\n",
    "\n",
    "exit()\n"
   ]
  },
  {
   "cell_type": "markdown",
   "metadata": {},
   "source": []
  }
 ],
 "metadata": {
  "language_info": {
   "name": "python"
  },
  "orig_nbformat": 4
 },
 "nbformat": 4,
 "nbformat_minor": 2
}
