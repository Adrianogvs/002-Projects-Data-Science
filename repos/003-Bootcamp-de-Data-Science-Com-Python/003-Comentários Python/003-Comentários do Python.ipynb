{
 "cells": [
  {
   "cell_type": "markdown",
   "metadata": {},
   "source": [
    "## Comentários do Python"
   ]
  },
  {
   "cell_type": "markdown",
   "metadata": {},
   "source": [
    "#### Comentários"
   ]
  },
  {
   "cell_type": "markdown",
   "metadata": {},
   "source": [
    "Os comentários podem ser usados ​​para explicar o código Python.\n",
    "\n",
    "Comentários podem ser usados ​​para tornar o código mais legível.\n",
    "\n",
    "Os comentários podem ser usados ​​para impedir a execução ao testar o código."
   ]
  },
  {
   "cell_type": "markdown",
   "metadata": {},
   "source": [
    "#### Criando um comentário"
   ]
  },
  {
   "cell_type": "markdown",
   "metadata": {},
   "source": [
    "- Os comentários começam com #, e o Python os ignorará:\n",
    "\n",
    "Exemplo:<p>\n",
    "#Este é um comentário<p>\n",
    "print(\"Hello, World!\")\n",
    "\n",
    "- Os comentários podem ser colocados no final de uma linha e o Python ignorará o resto da linha:\n",
    "\n",
    "Exemplo:<p>\n",
    "print(\"Hello, World!\") #Este é um comentário\n",
    "\n",
    "- Um comentário não precisa ser um texto que explique o código, ele também pode ser usado para impedir que o Python execute o código:\n",
    "\n",
    "Exemplo:<p>\n",
    "#print(\"Hello, World!\")<p>\n",
    "print(\"Saúde, companheiro!\")"
   ]
  },
  {
   "cell_type": "markdown",
   "metadata": {},
   "source": [
    "#### Comentários de várias linhas"
   ]
  },
  {
   "cell_type": "markdown",
   "metadata": {},
   "source": [
    "O Python realmente não possui uma sintaxe para comentários de várias linhas.\n",
    "\n",
    "Para adicionar um comentário de várias linhas, você pode inserir um #para cada linha:\n",
    "\n",
    "Exemplo:<p>\n",
    "#Este é um comentário\n",
    "#escrito em\n",
    "#mais do que apenas uma linha\n",
    "print(\"Hello, World!\")"
   ]
  },
  {
   "cell_type": "markdown",
   "metadata": {},
   "source": [
    "Ou, não exatamente como pretendido, você pode usar uma string de várias linhas.\n",
    "\n",
    "Como o Python ignorará literais de string que não são atribuídos a uma variável, você pode adicionar uma string de várias linhas (aspas triplas) em seu código e colocar seu comentário dentro dela:\n",
    "\n",
    "Exemplo:<p>\n",
    "\"\"\"<p>\n",
    "Este é um comentário<p>\n",
    "escrito em<p>\n",
    "mais do que apenas uma linha<p>\n",
    "\"\"\"<p>\n",
    "print(\"Hello, World!\")\n",
    "\n",
    "\n",
    "Contanto que a string não seja atribuída a uma variável, o Python lerá o código, mas o ignorará e você fez um comentário de várias linhas."
   ]
  }
 ],
 "metadata": {
  "language_info": {
   "name": "python"
  },
  "orig_nbformat": 4
 },
 "nbformat": 4,
 "nbformat_minor": 2
}
