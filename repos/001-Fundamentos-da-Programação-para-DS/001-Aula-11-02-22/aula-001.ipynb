{
 "cells": [
  {
   "cell_type": "markdown",
   "id": "01f00a92",
   "metadata": {
    "heading_collapsed": true
   },
   "source": [
    "# Comandos Auxiliares"
   ]
  },
  {
   "cell_type": "markdown",
   "id": "0d444a54",
   "metadata": {
    "heading_collapsed": true,
    "hidden": true
   },
   "source": [
    "## Leitura o Arquivo"
   ]
  },
  {
   "cell_type": "code",
   "execution_count": 5,
   "id": "1e21754b",
   "metadata": {
    "ExecuteTime": {
     "end_time": "2021-09-23T01:02:26.368581Z",
     "start_time": "2021-09-23T01:02:26.352930Z"
    },
    "hidden": true
   },
   "outputs": [],
   "source": [
    "# Função de Leitura do Arquivo\n",
    "import pandas as pd"
   ]
  },
  {
   "cell_type": "code",
   "execution_count": 14,
   "metadata": {},
   "outputs": [],
   "source": [
    "\n",
    "df = pd.read_csv(r'D:\\Users\\Administrador\\Documents\\GitHub\\002-Projects-Data-Science\\datasets\\dados_analise.csv')"
   ]
  },
  {
   "cell_type": "code",
   "execution_count": 15,
   "id": "f9e3aeef",
   "metadata": {
    "ExecuteTime": {
     "end_time": "2021-09-23T01:02:27.297900Z",
     "start_time": "2021-09-23T01:02:27.265909Z"
    },
    "hidden": true
   },
   "outputs": [
    {
     "data": {
      "text/html": [
       "<div>\n",
       "<style scoped>\n",
       "    .dataframe tbody tr th:only-of-type {\n",
       "        vertical-align: middle;\n",
       "    }\n",
       "\n",
       "    .dataframe tbody tr th {\n",
       "        vertical-align: top;\n",
       "    }\n",
       "\n",
       "    .dataframe thead th {\n",
       "        text-align: right;\n",
       "    }\n",
       "</style>\n",
       "<table border=\"1\" class=\"dataframe\">\n",
       "  <thead>\n",
       "    <tr style=\"text-align: right;\">\n",
       "      <th></th>\n",
       "      <th>id</th>\n",
       "      <th>first_name</th>\n",
       "      <th>gender</th>\n",
       "      <th>age</th>\n",
       "      <th>married</th>\n",
       "      <th>recently_bought</th>\n",
       "    </tr>\n",
       "  </thead>\n",
       "  <tbody>\n",
       "    <tr>\n",
       "      <th>3</th>\n",
       "      <td>4</td>\n",
       "      <td>Ag</td>\n",
       "      <td>Male</td>\n",
       "      <td>21</td>\n",
       "      <td>False</td>\n",
       "      <td>False</td>\n",
       "    </tr>\n",
       "    <tr>\n",
       "      <th>727</th>\n",
       "      <td>728</td>\n",
       "      <td>Shalna</td>\n",
       "      <td>Male</td>\n",
       "      <td>32</td>\n",
       "      <td>True</td>\n",
       "      <td>True</td>\n",
       "    </tr>\n",
       "    <tr>\n",
       "      <th>300</th>\n",
       "      <td>301</td>\n",
       "      <td>Dorita</td>\n",
       "      <td>Male</td>\n",
       "      <td>52</td>\n",
       "      <td>False</td>\n",
       "      <td>True</td>\n",
       "    </tr>\n",
       "    <tr>\n",
       "      <th>90</th>\n",
       "      <td>91</td>\n",
       "      <td>Nonie</td>\n",
       "      <td>Female</td>\n",
       "      <td>59</td>\n",
       "      <td>True</td>\n",
       "      <td>True</td>\n",
       "    </tr>\n",
       "    <tr>\n",
       "      <th>548</th>\n",
       "      <td>549</td>\n",
       "      <td>Sawyer</td>\n",
       "      <td>Male</td>\n",
       "      <td>18</td>\n",
       "      <td>False</td>\n",
       "      <td>True</td>\n",
       "    </tr>\n",
       "  </tbody>\n",
       "</table>\n",
       "</div>"
      ],
      "text/plain": [
       "      id first_name  gender  age  married  recently_bought\n",
       "3      4         Ag    Male   21    False            False\n",
       "727  728     Shalna    Male   32     True             True\n",
       "300  301     Dorita    Male   52    False             True\n",
       "90    91      Nonie  Female   59     True             True\n",
       "548  549     Sawyer    Male   18    False             True"
      ]
     },
     "execution_count": 15,
     "metadata": {},
     "output_type": "execute_result"
    }
   ],
   "source": [
    "df.sample(5)"
   ]
  },
  {
   "cell_type": "markdown",
   "id": "c84f11f3",
   "metadata": {
    "heading_collapsed": true
   },
   "source": [
    "# Intodução à Lógica de Programação"
   ]
  },
  {
   "cell_type": "markdown",
   "id": "d7a95b10",
   "metadata": {
    "heading_collapsed": true,
    "hidden": true
   },
   "source": [
    "## Problemas\n",
    "\n",
    "\n",
    "* Problema 1: Selecionar os clientes com idades entre 18 e 65 anos.\n",
    "    * Parte 1.1: Selecionar os clientes com idade maior que 18 anos\n",
    "    \n",
    "    * Parte 1.2: Selecionar os clientes com idade menor que 65 anos\n",
    "\n",
    "\n",
    "* Problema 2: Selecionar os clientes que são mulheres.\n",
    "\n",
    "\n",
    "* Problema 3: Selecionar os clientes que são homens e que são casados, ou os homens que não são casados mas que compraram na loja no último mês.\n",
    "    * Parte 3.1: Selecionar os clientes que são homens\n",
    "    * Parte 3.2: Selecionar os clientes que são casados\n",
    "    * Parte 3.3: Selecionar os clientes que compraram na loja no último mês"
   ]
  },
  {
   "cell_type": "markdown",
   "id": "0581d5ec",
   "metadata": {
    "heading_collapsed": true,
    "hidden": true
   },
   "source": [
    "## Solução\n"
   ]
  },
  {
   "cell_type": "code",
   "execution_count": 16,
   "id": "921d5d45",
   "metadata": {
    "ExecuteTime": {
     "end_time": "2021-09-23T01:02:29.570074Z",
     "start_time": "2021-09-23T01:02:29.563470Z"
    },
    "hidden": true
   },
   "outputs": [],
   "source": [
    "# Respostas\n",
    "mulheres = []\n",
    "homens = []"
   ]
  },
  {
   "cell_type": "code",
   "execution_count": 29,
   "id": "70463eab",
   "metadata": {
    "ExecuteTime": {
     "end_time": "2021-09-23T01:02:30.516707Z",
     "start_time": "2021-09-23T01:02:30.506843Z"
    },
    "hidden": true
   },
   "outputs": [
    {
     "name": "stdout",
     "output_type": "stream",
     "text": [
      "maior que 19\n",
      "menor que 18\n"
     ]
    }
   ],
   "source": [
    "# Versão Inicial\n",
    "for index, row in df.iterrows():\n",
    "    # Condicionais aqui\n",
    "    if (row['age'] >= 18):\n",
    "        print('maior que 19')\n",
    "    print('menor que 18')\n",
    "    break"
   ]
  },
  {
   "cell_type": "code",
   "execution_count": 30,
   "id": "e9afedbe",
   "metadata": {
    "ExecuteTime": {
     "end_time": "2021-09-23T01:02:31.851492Z",
     "start_time": "2021-09-23T01:02:31.834311Z"
    },
    "hidden": true
   },
   "outputs": [
    {
     "ename": "IndexError",
     "evalue": "list index out of range",
     "output_type": "error",
     "traceback": [
      "\u001b[1;31m---------------------------------------------------------------------------\u001b[0m",
      "\u001b[1;31mIndexError\u001b[0m                                Traceback (most recent call last)",
      "\u001b[1;32md:\\Users\\Administrador\\Documents\\GitHub\\002-Projects-Data-Science\\repos\\002-Fundamentos-da-Programação-para-DS\\001-Aula-11-02-22\\aula-001.ipynb Cell 11'\u001b[0m in \u001b[0;36m<module>\u001b[1;34m\u001b[0m\n\u001b[1;32m----> <a href='vscode-notebook-cell:/d%3A/Users/Administrador/Documents/GitHub/002-Projects-Data-Science/repos/002-Fundamentos-da-Programa%C3%A7%C3%A3o-para-DS/001-Aula-11-02-22/aula-001.ipynb#ch0000010?line=0'>1</a>\u001b[0m mulheres[\u001b[39m0\u001b[39;49m]\n",
      "\u001b[1;31mIndexError\u001b[0m: list index out of range"
     ]
    }
   ],
   "source": [
    "mulheres[0]"
   ]
  },
  {
   "cell_type": "code",
   "execution_count": 19,
   "id": "d35f2493",
   "metadata": {
    "ExecuteTime": {
     "end_time": "2021-09-23T01:02:32.683578Z",
     "start_time": "2021-09-23T01:02:32.673622Z"
    },
    "hidden": true
   },
   "outputs": [
    {
     "ename": "IndexError",
     "evalue": "list index out of range",
     "output_type": "error",
     "traceback": [
      "\u001b[1;31m---------------------------------------------------------------------------\u001b[0m",
      "\u001b[1;31mIndexError\u001b[0m                                Traceback (most recent call last)",
      "\u001b[1;32md:\\Users\\Administrador\\Documents\\GitHub\\002-Projects-Data-Science\\repos\\002-Fundamentos-da-Programação-para-DS\\001-Aula-11-02-22\\aula-001.ipynb Cell 12'\u001b[0m in \u001b[0;36m<module>\u001b[1;34m\u001b[0m\n\u001b[1;32m----> <a href='vscode-notebook-cell:/d%3A/Users/Administrador/Documents/GitHub/002-Projects-Data-Science/repos/002-Fundamentos-da-Programa%C3%A7%C3%A3o-para-DS/001-Aula-11-02-22/aula-001.ipynb#ch0000011?line=0'>1</a>\u001b[0m homens[\u001b[39m0\u001b[39;49m]\n",
      "\u001b[1;31mIndexError\u001b[0m: list index out of range"
     ]
    }
   ],
   "source": [
    "homens[0]"
   ]
  },
  {
   "cell_type": "markdown",
   "id": "ad5edb24",
   "metadata": {
    "heading_collapsed": true
   },
   "source": [
    "# Exemplo do IF\n"
   ]
  },
  {
   "cell_type": "markdown",
   "id": "2cd7b752",
   "metadata": {
    "hidden": true
   },
   "source": [
    "## Estrutura De Teste"
   ]
  },
  {
   "cell_type": "code",
   "execution_count": 20,
   "id": "dbc64155",
   "metadata": {
    "ExecuteTime": {
     "end_time": "2021-09-24T23:07:40.425731Z",
     "start_time": "2021-09-24T23:07:40.421799Z"
    },
    "hidden": true
   },
   "outputs": [],
   "source": [
    "lista_clientes = [\n",
    "    {'id': 1,  'name': 'Pedro',     'gender': 'M', 'age': 32, 'married': True,  'recently_bought': True},\n",
    "    {'id': 2,  'name': 'Guilherme', 'gender': 'M', 'age': 23, 'married': False, 'recently_bought': True},\n",
    "    {'id': 3,  'name': 'Volpato',   'gender': 'M', 'age': 85, 'married': True,  'recently_bought': False},\n",
    "    {'id': 4,  'name': 'Ferraresi', 'gender': 'M', 'age': 83, 'married': False, 'recently_bought': False},\n",
    "    {'id': 5,  'name': 'Ana',       'gender': 'F', 'age': 29, 'married': True,  'recently_bought': True},\n",
    "    {'id': 6,  'name': 'Carolina',  'gender': 'F', 'age': 92, 'married': False, 'recently_bought': False},\n",
    "    {'id': 7,  'name': 'Curvina',   'gender': 'F', 'age': 44, 'married': False, 'recently_bought': False},\n",
    "    {'id': 8,  'name': 'Ubaldo',    'gender': 'F', 'age': 72, 'married': False, 'recently_bought': False},\n",
    "    {'id': 9,  'name': 'João',      'gender': 'M', 'age': 28, 'married': False, 'recently_bought': True},\n",
    "    {'id': 10, 'name': 'Gabriel',   'gender': 'M', 'age': 82, 'married': True,  'recently_bought': True},\n",
    "]"
   ]
  },
  {
   "cell_type": "code",
   "execution_count": 21,
   "id": "f65ba22a",
   "metadata": {
    "ExecuteTime": {
     "end_time": "2021-09-24T23:07:37.424685Z",
     "start_time": "2021-09-24T23:07:37.421873Z"
    },
    "hidden": true
   },
   "outputs": [
    {
     "name": "stdout",
     "output_type": "stream",
     "text": [
      "{'id': 1, 'name': 'Pedro', 'gender': 'M', 'age': 32, 'married': True, 'recently_bought': True}\n"
     ]
    }
   ],
   "source": [
    "for cliente in lista_clientes:\n",
    "    if (cliente['id'] == 1):\n",
    "        print(cliente)\n",
    "        break"
   ]
  },
  {
   "cell_type": "markdown",
   "id": "dc4ad6a9",
   "metadata": {
    "heading_collapsed": true,
    "hidden": true
   },
   "source": [
    "## Exemplos"
   ]
  },
  {
   "cell_type": "markdown",
   "id": "a6b4bea4",
   "metadata": {
    "heading_collapsed": true,
    "hidden": true
   },
   "source": [
    "### Selecione o cliente caso o nome dele seja Pedro"
   ]
  },
  {
   "cell_type": "code",
   "execution_count": 22,
   "id": "b3e7fd5d",
   "metadata": {
    "ExecuteTime": {
     "end_time": "2021-09-24T23:26:16.338766Z",
     "start_time": "2021-09-24T23:26:16.336594Z"
    },
    "hidden": true
   },
   "outputs": [],
   "source": [
    "resposta =[]\n",
    "\n",
    "for cliente in lista_clientes:\n",
    "    # Condicional aqui\n",
    "    if ():\n",
    "        resposta.append(cliente)"
   ]
  },
  {
   "cell_type": "code",
   "execution_count": 23,
   "id": "b2847687",
   "metadata": {
    "hidden": true
   },
   "outputs": [
    {
     "data": {
      "text/plain": [
       "[]"
      ]
     },
     "execution_count": 23,
     "metadata": {},
     "output_type": "execute_result"
    }
   ],
   "source": [
    "resposta"
   ]
  },
  {
   "cell_type": "markdown",
   "id": "2a363767",
   "metadata": {
    "heading_collapsed": true,
    "hidden": true
   },
   "source": [
    "### Selecione o cliente caso a idade dele seja maior que 30 anos"
   ]
  },
  {
   "cell_type": "code",
   "execution_count": 24,
   "id": "7110eb95",
   "metadata": {
    "hidden": true
   },
   "outputs": [],
   "source": [
    "resposta =[]\n",
    "\n",
    "for cliente in lista_clientes:\n",
    "    # Condicional aqui\n",
    "    if ():\n",
    "        resposta.append(cliente)"
   ]
  },
  {
   "cell_type": "code",
   "execution_count": 25,
   "id": "20ae404e",
   "metadata": {
    "hidden": true
   },
   "outputs": [
    {
     "data": {
      "text/plain": [
       "[]"
      ]
     },
     "execution_count": 25,
     "metadata": {},
     "output_type": "execute_result"
    }
   ],
   "source": [
    "resposta"
   ]
  },
  {
   "cell_type": "markdown",
   "id": "24f7a388",
   "metadata": {
    "heading_collapsed": true,
    "hidden": true
   },
   "source": [
    "### Selecione os clientes que tenham comprado recentemente"
   ]
  },
  {
   "cell_type": "code",
   "execution_count": 26,
   "id": "8af87c6d",
   "metadata": {
    "hidden": true
   },
   "outputs": [],
   "source": [
    "resposta =[]\n",
    "\n",
    "for cliente in lista_clientes:\n",
    "    # Condicional aqui\n",
    "    if ():\n",
    "        resposta.append(cliente)"
   ]
  },
  {
   "cell_type": "code",
   "execution_count": 27,
   "id": "847c7b2f",
   "metadata": {
    "hidden": true
   },
   "outputs": [
    {
     "data": {
      "text/plain": [
       "[]"
      ]
     },
     "execution_count": 27,
     "metadata": {},
     "output_type": "execute_result"
    }
   ],
   "source": [
    "resposta"
   ]
  },
  {
   "cell_type": "markdown",
   "id": "d07b4f59",
   "metadata": {
    "heading_collapsed": true,
    "hidden": true
   },
   "source": [
    "### Selecione os clientes que sejam mulheres e homens em listas separadas"
   ]
  },
  {
   "cell_type": "code",
   "execution_count": 28,
   "id": "25304bc9",
   "metadata": {
    "hidden": true
   },
   "outputs": [
    {
     "ename": "IndentationError",
     "evalue": "expected an indented block after 'for' statement on line 4 (246158500.py, line 5)",
     "output_type": "error",
     "traceback": [
      "\u001b[1;36m  Input \u001b[1;32mIn [28]\u001b[1;36m\u001b[0m\n\u001b[1;33m    # Condicional aqui\u001b[0m\n\u001b[1;37m                      ^\u001b[0m\n\u001b[1;31mIndentationError\u001b[0m\u001b[1;31m:\u001b[0m expected an indented block after 'for' statement on line 4\n"
     ]
    }
   ],
   "source": [
    "mulheres = []\n",
    "homens = []\n",
    "\n",
    "for cliente in lista_clientes:\n",
    "    # Condicional aqui"
   ]
  },
  {
   "cell_type": "code",
   "execution_count": null,
   "id": "bff31287",
   "metadata": {
    "hidden": true
   },
   "outputs": [],
   "source": [
    "homens"
   ]
  },
  {
   "cell_type": "code",
   "execution_count": null,
   "id": "237f7bc3",
   "metadata": {
    "hidden": true
   },
   "outputs": [],
   "source": [
    "mulheres"
   ]
  },
  {
   "cell_type": "markdown",
   "id": "4ddaa725",
   "metadata": {
    "heading_collapsed": true,
    "hidden": true
   },
   "source": [
    "### Faça a seguinte seleção\n",
    "\n",
    "Selecione os clientes que são casado e não casados. \n",
    "* Dos que são casados, selecione os que compraram e os que não compraram recentemente na loja. \n",
    "* Dos não casasdos, separe os que são homens. \n",
    "    * Dos homens separados, selecione os que tem idade maior que 35 anos\n",
    "    * Dos homens separados que não tem idade maior que 35 anos, separe o cliente que tem o nome de Pedro\n",
    "    "
   ]
  },
  {
   "cell_type": "code",
   "execution_count": null,
   "id": "367d0dec",
   "metadata": {
    "hidden": true
   },
   "outputs": [],
   "source": [
    "# respostas\n",
    "casados = []\n",
    "nao_casados = []\n",
    "compraram = []\n",
    "nao_compraram = []\n",
    "maior_35 = []\n",
    "pedro = []"
   ]
  },
  {
   "cell_type": "code",
   "execution_count": null,
   "id": "76183bc0",
   "metadata": {
    "hidden": true
   },
   "outputs": [],
   "source": [
    "for cliente in lista_clientes:\n",
    "    # Condicional aqui"
   ]
  },
  {
   "cell_type": "code",
   "execution_count": null,
   "id": "fa9de7ec",
   "metadata": {
    "hidden": true
   },
   "outputs": [],
   "source": [
    "casados"
   ]
  },
  {
   "cell_type": "code",
   "execution_count": null,
   "id": "342f275c",
   "metadata": {
    "hidden": true
   },
   "outputs": [],
   "source": [
    "nao_casados"
   ]
  },
  {
   "cell_type": "code",
   "execution_count": null,
   "id": "aa93847f",
   "metadata": {
    "hidden": true
   },
   "outputs": [],
   "source": [
    "compraram"
   ]
  },
  {
   "cell_type": "code",
   "execution_count": null,
   "id": "13a05bf9",
   "metadata": {
    "hidden": true
   },
   "outputs": [],
   "source": [
    "nao_compraram"
   ]
  },
  {
   "cell_type": "code",
   "execution_count": null,
   "id": "2880fc09",
   "metadata": {
    "hidden": true
   },
   "outputs": [],
   "source": [
    "maior_35"
   ]
  },
  {
   "cell_type": "code",
   "execution_count": null,
   "id": "cfbf9b07",
   "metadata": {
    "hidden": true
   },
   "outputs": [],
   "source": [
    "pedro"
   ]
  },
  {
   "cell_type": "markdown",
   "id": "6fce672f",
   "metadata": {
    "heading_collapsed": true
   },
   "source": [
    "# Operadores Lógicos"
   ]
  },
  {
   "cell_type": "markdown",
   "id": "afdc3a7d",
   "metadata": {
    "hidden": true
   },
   "source": [
    "Utilizando a lista criada no exemplo do *if*, selecione os clientes com base no pedido"
   ]
  },
  {
   "cell_type": "markdown",
   "id": "0908af79",
   "metadata": {
    "heading_collapsed": true,
    "hidden": true
   },
   "source": [
    "### 1. Operador E (AND) - Selecione os clientes que sejam casados E que tenham comprado recentemente na loja\n"
   ]
  },
  {
   "cell_type": "code",
   "execution_count": null,
   "id": "8243fc0d",
   "metadata": {
    "hidden": true
   },
   "outputs": [],
   "source": [
    "resposta_1 = []\n",
    "\n",
    "for cliente in lista_clientes:\n",
    "    # Condicional aqui\n",
    "    if ():\n",
    "        resposta_1.append(cliente)"
   ]
  },
  {
   "cell_type": "code",
   "execution_count": null,
   "id": "b68db0d6",
   "metadata": {
    "hidden": true
   },
   "outputs": [],
   "source": [
    "resposta_1"
   ]
  },
  {
   "cell_type": "markdown",
   "id": "c3da7960",
   "metadata": {
    "heading_collapsed": true,
    "hidden": true
   },
   "source": [
    "### 2. Operador OU (OR) - Selecione os clientes que não sejam casados OU que sejam mulheres\n"
   ]
  },
  {
   "cell_type": "code",
   "execution_count": null,
   "id": "3adb2409",
   "metadata": {
    "hidden": true
   },
   "outputs": [],
   "source": [
    "resposta_2 = []\n",
    "\n",
    "for cliente in lista_clientes:\n",
    "    # Condicional aqui\n",
    "    if ():\n",
    "        resposta_2.append(cliente)"
   ]
  },
  {
   "cell_type": "code",
   "execution_count": null,
   "id": "86ac1d0c",
   "metadata": {
    "hidden": true
   },
   "outputs": [],
   "source": [
    "resposta_2"
   ]
  },
  {
   "cell_type": "markdown",
   "id": "798b8895",
   "metadata": {
    "heading_collapsed": true,
    "hidden": true
   },
   "source": [
    "### 3. Operador de Negação (NOT) - Utilizando o operador de Negação, selecione os clientes que são mulheres e não são casados"
   ]
  },
  {
   "cell_type": "code",
   "execution_count": null,
   "id": "927055ab",
   "metadata": {
    "hidden": true
   },
   "outputs": [],
   "source": [
    "resposta_3 = []\n",
    "\n",
    "for cliente in lista_clientes:\n",
    "    # Condicional aqui\n",
    "    if ():\n",
    "        resposta_3.append(cliente)\n",
    "        \n",
    "reposta_3"
   ]
  }
 ],
 "metadata": {
  "interpreter": {
   "hash": "3bb03df91ec1981933db38e9cd509750fbcc8736096f2f96108c21544a6fd7c7"
  },
  "kernelspec": {
   "display_name": "Python 3.8.11 64-bit ('3.8.11': pyenv)",
   "language": "python",
   "name": "python3"
  },
  "language_info": {
   "codemirror_mode": {
    "name": "ipython",
    "version": 3
   },
   "file_extension": ".py",
   "mimetype": "text/x-python",
   "name": "python",
   "nbconvert_exporter": "python",
   "pygments_lexer": "ipython3",
   "version": "3.10.2"
  },
  "latex_envs": {
   "LaTeX_envs_menu_present": true,
   "autoclose": false,
   "autocomplete": true,
   "bibliofile": "biblio.bib",
   "cite_by": "apalike",
   "current_citInitial": 1,
   "eqLabelWithNumbers": true,
   "eqNumInitial": 1,
   "hotkeys": {
    "equation": "Ctrl-E",
    "itemize": "Ctrl-I"
   },
   "labels_anchors": false,
   "latex_user_defs": false,
   "report_style_numbering": false,
   "user_envs_cfg": false
  }
 },
 "nbformat": 4,
 "nbformat_minor": 5
}
