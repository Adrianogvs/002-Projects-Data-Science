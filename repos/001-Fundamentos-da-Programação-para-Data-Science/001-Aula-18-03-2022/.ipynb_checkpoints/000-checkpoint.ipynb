{
 "cells": [
  {
   "cell_type": "markdown",
   "id": "01f00a92",
   "metadata": {
    "heading_collapsed": true
   },
   "source": [
    "# Comandos Auxiliares"
   ]
  },
  {
   "cell_type": "markdown",
   "id": "0d444a54",
   "metadata": {
    "heading_collapsed": true,
    "hidden": true
   },
   "source": [
    "## Leitura o Arquivo"
   ]
  },
  {
   "cell_type": "code",
   "execution_count": 4,
   "id": "1e21754b",
   "metadata": {
    "ExecuteTime": {
     "end_time": "2021-09-24T23:56:04.111293Z",
     "start_time": "2021-09-24T23:56:03.812947Z"
    },
    "hidden": true
   },
   "outputs": [],
   "source": [
    "# Função de Leitura do Arquivo\n",
    "import pandas as pd\n",
    "\n",
    "def read_file(file):\n",
    "    return pd.read_csv(file)"
   ]
  },
  {
   "cell_type": "code",
   "execution_count": 5,
   "id": "cef9b004",
   "metadata": {},
   "outputs": [
    {
     "ename": "FileNotFoundError",
     "evalue": "[Errno 2] No such file or directory: '../datasets/dados_analise.csv'",
     "output_type": "error",
     "traceback": [
      "\u001b[1;31m---------------------------------------------------------------------------\u001b[0m",
      "\u001b[1;31mFileNotFoundError\u001b[0m                         Traceback (most recent call last)",
      "\u001b[1;32mC:\\Users\\ADMINI~1\\AppData\\Local\\Temp/ipykernel_25096/3625230893.py\u001b[0m in \u001b[0;36m<module>\u001b[1;34m\u001b[0m\n\u001b[0;32m      1\u001b[0m \u001b[1;31m# Conteúdos estão em uma lista\u001b[0m\u001b[1;33m\u001b[0m\u001b[1;33m\u001b[0m\u001b[0m\n\u001b[1;32m----> 2\u001b[1;33m \u001b[0mdf\u001b[0m \u001b[1;33m=\u001b[0m \u001b[0mread_file\u001b[0m\u001b[1;33m(\u001b[0m\u001b[1;34m'../datasets/dados_analise.csv'\u001b[0m\u001b[1;33m)\u001b[0m\u001b[1;33m\u001b[0m\u001b[1;33m\u001b[0m\u001b[0m\n\u001b[0m",
      "\u001b[1;32mC:\\Users\\ADMINI~1\\AppData\\Local\\Temp/ipykernel_25096/1504690577.py\u001b[0m in \u001b[0;36mread_file\u001b[1;34m(file)\u001b[0m\n\u001b[0;32m      3\u001b[0m \u001b[1;33m\u001b[0m\u001b[0m\n\u001b[0;32m      4\u001b[0m \u001b[1;32mdef\u001b[0m \u001b[0mread_file\u001b[0m\u001b[1;33m(\u001b[0m\u001b[0mfile\u001b[0m\u001b[1;33m)\u001b[0m\u001b[1;33m:\u001b[0m\u001b[1;33m\u001b[0m\u001b[1;33m\u001b[0m\u001b[0m\n\u001b[1;32m----> 5\u001b[1;33m     \u001b[1;32mreturn\u001b[0m \u001b[0mpd\u001b[0m\u001b[1;33m.\u001b[0m\u001b[0mread_csv\u001b[0m\u001b[1;33m(\u001b[0m\u001b[0mfile\u001b[0m\u001b[1;33m)\u001b[0m\u001b[1;33m\u001b[0m\u001b[1;33m\u001b[0m\u001b[0m\n\u001b[0m",
      "\u001b[1;32m~\\anaconda3\\lib\\site-packages\\pandas\\util\\_decorators.py\u001b[0m in \u001b[0;36mwrapper\u001b[1;34m(*args, **kwargs)\u001b[0m\n\u001b[0;32m    309\u001b[0m                     \u001b[0mstacklevel\u001b[0m\u001b[1;33m=\u001b[0m\u001b[0mstacklevel\u001b[0m\u001b[1;33m,\u001b[0m\u001b[1;33m\u001b[0m\u001b[1;33m\u001b[0m\u001b[0m\n\u001b[0;32m    310\u001b[0m                 )\n\u001b[1;32m--> 311\u001b[1;33m             \u001b[1;32mreturn\u001b[0m \u001b[0mfunc\u001b[0m\u001b[1;33m(\u001b[0m\u001b[1;33m*\u001b[0m\u001b[0margs\u001b[0m\u001b[1;33m,\u001b[0m \u001b[1;33m**\u001b[0m\u001b[0mkwargs\u001b[0m\u001b[1;33m)\u001b[0m\u001b[1;33m\u001b[0m\u001b[1;33m\u001b[0m\u001b[0m\n\u001b[0m\u001b[0;32m    312\u001b[0m \u001b[1;33m\u001b[0m\u001b[0m\n\u001b[0;32m    313\u001b[0m         \u001b[1;32mreturn\u001b[0m \u001b[0mwrapper\u001b[0m\u001b[1;33m\u001b[0m\u001b[1;33m\u001b[0m\u001b[0m\n",
      "\u001b[1;32m~\\anaconda3\\lib\\site-packages\\pandas\\io\\parsers\\readers.py\u001b[0m in \u001b[0;36mread_csv\u001b[1;34m(filepath_or_buffer, sep, delimiter, header, names, index_col, usecols, squeeze, prefix, mangle_dupe_cols, dtype, engine, converters, true_values, false_values, skipinitialspace, skiprows, skipfooter, nrows, na_values, keep_default_na, na_filter, verbose, skip_blank_lines, parse_dates, infer_datetime_format, keep_date_col, date_parser, dayfirst, cache_dates, iterator, chunksize, compression, thousands, decimal, lineterminator, quotechar, quoting, doublequote, escapechar, comment, encoding, encoding_errors, dialect, error_bad_lines, warn_bad_lines, on_bad_lines, delim_whitespace, low_memory, memory_map, float_precision, storage_options)\u001b[0m\n\u001b[0;32m    584\u001b[0m     \u001b[0mkwds\u001b[0m\u001b[1;33m.\u001b[0m\u001b[0mupdate\u001b[0m\u001b[1;33m(\u001b[0m\u001b[0mkwds_defaults\u001b[0m\u001b[1;33m)\u001b[0m\u001b[1;33m\u001b[0m\u001b[1;33m\u001b[0m\u001b[0m\n\u001b[0;32m    585\u001b[0m \u001b[1;33m\u001b[0m\u001b[0m\n\u001b[1;32m--> 586\u001b[1;33m     \u001b[1;32mreturn\u001b[0m \u001b[0m_read\u001b[0m\u001b[1;33m(\u001b[0m\u001b[0mfilepath_or_buffer\u001b[0m\u001b[1;33m,\u001b[0m \u001b[0mkwds\u001b[0m\u001b[1;33m)\u001b[0m\u001b[1;33m\u001b[0m\u001b[1;33m\u001b[0m\u001b[0m\n\u001b[0m\u001b[0;32m    587\u001b[0m \u001b[1;33m\u001b[0m\u001b[0m\n\u001b[0;32m    588\u001b[0m \u001b[1;33m\u001b[0m\u001b[0m\n",
      "\u001b[1;32m~\\anaconda3\\lib\\site-packages\\pandas\\io\\parsers\\readers.py\u001b[0m in \u001b[0;36m_read\u001b[1;34m(filepath_or_buffer, kwds)\u001b[0m\n\u001b[0;32m    480\u001b[0m \u001b[1;33m\u001b[0m\u001b[0m\n\u001b[0;32m    481\u001b[0m     \u001b[1;31m# Create the parser.\u001b[0m\u001b[1;33m\u001b[0m\u001b[1;33m\u001b[0m\u001b[0m\n\u001b[1;32m--> 482\u001b[1;33m     \u001b[0mparser\u001b[0m \u001b[1;33m=\u001b[0m \u001b[0mTextFileReader\u001b[0m\u001b[1;33m(\u001b[0m\u001b[0mfilepath_or_buffer\u001b[0m\u001b[1;33m,\u001b[0m \u001b[1;33m**\u001b[0m\u001b[0mkwds\u001b[0m\u001b[1;33m)\u001b[0m\u001b[1;33m\u001b[0m\u001b[1;33m\u001b[0m\u001b[0m\n\u001b[0m\u001b[0;32m    483\u001b[0m \u001b[1;33m\u001b[0m\u001b[0m\n\u001b[0;32m    484\u001b[0m     \u001b[1;32mif\u001b[0m \u001b[0mchunksize\u001b[0m \u001b[1;32mor\u001b[0m \u001b[0miterator\u001b[0m\u001b[1;33m:\u001b[0m\u001b[1;33m\u001b[0m\u001b[1;33m\u001b[0m\u001b[0m\n",
      "\u001b[1;32m~\\anaconda3\\lib\\site-packages\\pandas\\io\\parsers\\readers.py\u001b[0m in \u001b[0;36m__init__\u001b[1;34m(self, f, engine, **kwds)\u001b[0m\n\u001b[0;32m    809\u001b[0m             \u001b[0mself\u001b[0m\u001b[1;33m.\u001b[0m\u001b[0moptions\u001b[0m\u001b[1;33m[\u001b[0m\u001b[1;34m\"has_index_names\"\u001b[0m\u001b[1;33m]\u001b[0m \u001b[1;33m=\u001b[0m \u001b[0mkwds\u001b[0m\u001b[1;33m[\u001b[0m\u001b[1;34m\"has_index_names\"\u001b[0m\u001b[1;33m]\u001b[0m\u001b[1;33m\u001b[0m\u001b[1;33m\u001b[0m\u001b[0m\n\u001b[0;32m    810\u001b[0m \u001b[1;33m\u001b[0m\u001b[0m\n\u001b[1;32m--> 811\u001b[1;33m         \u001b[0mself\u001b[0m\u001b[1;33m.\u001b[0m\u001b[0m_engine\u001b[0m \u001b[1;33m=\u001b[0m \u001b[0mself\u001b[0m\u001b[1;33m.\u001b[0m\u001b[0m_make_engine\u001b[0m\u001b[1;33m(\u001b[0m\u001b[0mself\u001b[0m\u001b[1;33m.\u001b[0m\u001b[0mengine\u001b[0m\u001b[1;33m)\u001b[0m\u001b[1;33m\u001b[0m\u001b[1;33m\u001b[0m\u001b[0m\n\u001b[0m\u001b[0;32m    812\u001b[0m \u001b[1;33m\u001b[0m\u001b[0m\n\u001b[0;32m    813\u001b[0m     \u001b[1;32mdef\u001b[0m \u001b[0mclose\u001b[0m\u001b[1;33m(\u001b[0m\u001b[0mself\u001b[0m\u001b[1;33m)\u001b[0m\u001b[1;33m:\u001b[0m\u001b[1;33m\u001b[0m\u001b[1;33m\u001b[0m\u001b[0m\n",
      "\u001b[1;32m~\\anaconda3\\lib\\site-packages\\pandas\\io\\parsers\\readers.py\u001b[0m in \u001b[0;36m_make_engine\u001b[1;34m(self, engine)\u001b[0m\n\u001b[0;32m   1038\u001b[0m             )\n\u001b[0;32m   1039\u001b[0m         \u001b[1;31m# error: Too many arguments for \"ParserBase\"\u001b[0m\u001b[1;33m\u001b[0m\u001b[1;33m\u001b[0m\u001b[0m\n\u001b[1;32m-> 1040\u001b[1;33m         \u001b[1;32mreturn\u001b[0m \u001b[0mmapping\u001b[0m\u001b[1;33m[\u001b[0m\u001b[0mengine\u001b[0m\u001b[1;33m]\u001b[0m\u001b[1;33m(\u001b[0m\u001b[0mself\u001b[0m\u001b[1;33m.\u001b[0m\u001b[0mf\u001b[0m\u001b[1;33m,\u001b[0m \u001b[1;33m**\u001b[0m\u001b[0mself\u001b[0m\u001b[1;33m.\u001b[0m\u001b[0moptions\u001b[0m\u001b[1;33m)\u001b[0m  \u001b[1;31m# type: ignore[call-arg]\u001b[0m\u001b[1;33m\u001b[0m\u001b[1;33m\u001b[0m\u001b[0m\n\u001b[0m\u001b[0;32m   1041\u001b[0m \u001b[1;33m\u001b[0m\u001b[0m\n\u001b[0;32m   1042\u001b[0m     \u001b[1;32mdef\u001b[0m \u001b[0m_failover_to_python\u001b[0m\u001b[1;33m(\u001b[0m\u001b[0mself\u001b[0m\u001b[1;33m)\u001b[0m\u001b[1;33m:\u001b[0m\u001b[1;33m\u001b[0m\u001b[1;33m\u001b[0m\u001b[0m\n",
      "\u001b[1;32m~\\anaconda3\\lib\\site-packages\\pandas\\io\\parsers\\c_parser_wrapper.py\u001b[0m in \u001b[0;36m__init__\u001b[1;34m(self, src, **kwds)\u001b[0m\n\u001b[0;32m     49\u001b[0m \u001b[1;33m\u001b[0m\u001b[0m\n\u001b[0;32m     50\u001b[0m         \u001b[1;31m# open handles\u001b[0m\u001b[1;33m\u001b[0m\u001b[1;33m\u001b[0m\u001b[0m\n\u001b[1;32m---> 51\u001b[1;33m         \u001b[0mself\u001b[0m\u001b[1;33m.\u001b[0m\u001b[0m_open_handles\u001b[0m\u001b[1;33m(\u001b[0m\u001b[0msrc\u001b[0m\u001b[1;33m,\u001b[0m \u001b[0mkwds\u001b[0m\u001b[1;33m)\u001b[0m\u001b[1;33m\u001b[0m\u001b[1;33m\u001b[0m\u001b[0m\n\u001b[0m\u001b[0;32m     52\u001b[0m         \u001b[1;32massert\u001b[0m \u001b[0mself\u001b[0m\u001b[1;33m.\u001b[0m\u001b[0mhandles\u001b[0m \u001b[1;32mis\u001b[0m \u001b[1;32mnot\u001b[0m \u001b[1;32mNone\u001b[0m\u001b[1;33m\u001b[0m\u001b[1;33m\u001b[0m\u001b[0m\n\u001b[0;32m     53\u001b[0m \u001b[1;33m\u001b[0m\u001b[0m\n",
      "\u001b[1;32m~\\anaconda3\\lib\\site-packages\\pandas\\io\\parsers\\base_parser.py\u001b[0m in \u001b[0;36m_open_handles\u001b[1;34m(self, src, kwds)\u001b[0m\n\u001b[0;32m    220\u001b[0m         \u001b[0mLet\u001b[0m \u001b[0mthe\u001b[0m \u001b[0mreaders\u001b[0m \u001b[0mopen\u001b[0m \u001b[0mIOHandles\u001b[0m \u001b[0mafter\u001b[0m \u001b[0mthey\u001b[0m \u001b[0mare\u001b[0m \u001b[0mdone\u001b[0m \u001b[1;32mwith\u001b[0m \u001b[0mtheir\u001b[0m \u001b[0mpotential\u001b[0m \u001b[0mraises\u001b[0m\u001b[1;33m.\u001b[0m\u001b[1;33m\u001b[0m\u001b[1;33m\u001b[0m\u001b[0m\n\u001b[0;32m    221\u001b[0m         \"\"\"\n\u001b[1;32m--> 222\u001b[1;33m         self.handles = get_handle(\n\u001b[0m\u001b[0;32m    223\u001b[0m             \u001b[0msrc\u001b[0m\u001b[1;33m,\u001b[0m\u001b[1;33m\u001b[0m\u001b[1;33m\u001b[0m\u001b[0m\n\u001b[0;32m    224\u001b[0m             \u001b[1;34m\"r\"\u001b[0m\u001b[1;33m,\u001b[0m\u001b[1;33m\u001b[0m\u001b[1;33m\u001b[0m\u001b[0m\n",
      "\u001b[1;32m~\\anaconda3\\lib\\site-packages\\pandas\\io\\common.py\u001b[0m in \u001b[0;36mget_handle\u001b[1;34m(path_or_buf, mode, encoding, compression, memory_map, is_text, errors, storage_options)\u001b[0m\n\u001b[0;32m    700\u001b[0m         \u001b[1;32mif\u001b[0m \u001b[0mioargs\u001b[0m\u001b[1;33m.\u001b[0m\u001b[0mencoding\u001b[0m \u001b[1;32mand\u001b[0m \u001b[1;34m\"b\"\u001b[0m \u001b[1;32mnot\u001b[0m \u001b[1;32min\u001b[0m \u001b[0mioargs\u001b[0m\u001b[1;33m.\u001b[0m\u001b[0mmode\u001b[0m\u001b[1;33m:\u001b[0m\u001b[1;33m\u001b[0m\u001b[1;33m\u001b[0m\u001b[0m\n\u001b[0;32m    701\u001b[0m             \u001b[1;31m# Encoding\u001b[0m\u001b[1;33m\u001b[0m\u001b[1;33m\u001b[0m\u001b[0m\n\u001b[1;32m--> 702\u001b[1;33m             handle = open(\n\u001b[0m\u001b[0;32m    703\u001b[0m                 \u001b[0mhandle\u001b[0m\u001b[1;33m,\u001b[0m\u001b[1;33m\u001b[0m\u001b[1;33m\u001b[0m\u001b[0m\n\u001b[0;32m    704\u001b[0m                 \u001b[0mioargs\u001b[0m\u001b[1;33m.\u001b[0m\u001b[0mmode\u001b[0m\u001b[1;33m,\u001b[0m\u001b[1;33m\u001b[0m\u001b[1;33m\u001b[0m\u001b[0m\n",
      "\u001b[1;31mFileNotFoundError\u001b[0m: [Errno 2] No such file or directory: '../datasets/dados_analise.csv'"
     ]
    }
   ],
   "source": [
    "# Conteúdos estão em uma lista\n",
    "df = read_file('../datasets/dados_analise.csv')"
   ]
  },
  {
   "cell_type": "code",
   "execution_count": 2,
   "id": "f9e3aeef",
   "metadata": {
    "ExecuteTime": {
     "end_time": "2021-09-24T23:56:04.179373Z",
     "start_time": "2021-09-24T23:56:04.163495Z"
    },
    "hidden": true
   },
   "outputs": [
    {
     "data": {
      "text/html": [
       "<div>\n",
       "<style scoped>\n",
       "    .dataframe tbody tr th:only-of-type {\n",
       "        vertical-align: middle;\n",
       "    }\n",
       "\n",
       "    .dataframe tbody tr th {\n",
       "        vertical-align: top;\n",
       "    }\n",
       "\n",
       "    .dataframe thead th {\n",
       "        text-align: right;\n",
       "    }\n",
       "</style>\n",
       "<table border=\"1\" class=\"dataframe\">\n",
       "  <thead>\n",
       "    <tr style=\"text-align: right;\">\n",
       "      <th></th>\n",
       "      <th>id</th>\n",
       "      <th>first_name</th>\n",
       "      <th>gender</th>\n",
       "      <th>age</th>\n",
       "      <th>married</th>\n",
       "      <th>recently_bought</th>\n",
       "    </tr>\n",
       "  </thead>\n",
       "  <tbody>\n",
       "    <tr>\n",
       "      <th>273</th>\n",
       "      <td>274</td>\n",
       "      <td>Ange</td>\n",
       "      <td>Female</td>\n",
       "      <td>45</td>\n",
       "      <td>True</td>\n",
       "      <td>False</td>\n",
       "    </tr>\n",
       "    <tr>\n",
       "      <th>884</th>\n",
       "      <td>885</td>\n",
       "      <td>Garrik</td>\n",
       "      <td>Female</td>\n",
       "      <td>59</td>\n",
       "      <td>False</td>\n",
       "      <td>True</td>\n",
       "    </tr>\n",
       "    <tr>\n",
       "      <th>106</th>\n",
       "      <td>107</td>\n",
       "      <td>Zorina</td>\n",
       "      <td>Male</td>\n",
       "      <td>62</td>\n",
       "      <td>False</td>\n",
       "      <td>False</td>\n",
       "    </tr>\n",
       "    <tr>\n",
       "      <th>526</th>\n",
       "      <td>527</td>\n",
       "      <td>Agna</td>\n",
       "      <td>Male</td>\n",
       "      <td>55</td>\n",
       "      <td>False</td>\n",
       "      <td>True</td>\n",
       "    </tr>\n",
       "    <tr>\n",
       "      <th>142</th>\n",
       "      <td>143</td>\n",
       "      <td>Norah</td>\n",
       "      <td>Male</td>\n",
       "      <td>33</td>\n",
       "      <td>False</td>\n",
       "      <td>True</td>\n",
       "    </tr>\n",
       "  </tbody>\n",
       "</table>\n",
       "</div>"
      ],
      "text/plain": [
       "      id first_name  gender  age  married  recently_bought\n",
       "273  274       Ange  Female   45     True            False\n",
       "884  885     Garrik  Female   59    False             True\n",
       "106  107     Zorina    Male   62    False            False\n",
       "526  527       Agna    Male   55    False             True\n",
       "142  143      Norah    Male   33    False             True"
      ]
     },
     "execution_count": 2,
     "metadata": {},
     "output_type": "execute_result"
    }
   ],
   "source": [
    "df.sample(5)"
   ]
  },
  {
   "cell_type": "markdown",
   "id": "fbb4524a",
   "metadata": {
    "heading_collapsed": true
   },
   "source": [
    "# Intodução à Lógica de Programação"
   ]
  },
  {
   "cell_type": "markdown",
   "id": "d7a95b10",
   "metadata": {
    "heading_collapsed": true,
    "hidden": true
   },
   "source": [
    "## Problemas\n",
    "\n",
    "\n",
    "* Problema 1: Selecionar os clientes com idades entre 18 e 65 anos.\n",
    "    * Parte 1.1: Selecionar os clientes com idade maior que 18 anos\n",
    "    \n",
    "    * Parte 1.2: Selecionar os clientes com idade menor que 65 anos\n",
    "\n",
    "\n",
    "* Problema 2: Selecionar os clientes que são mulheres.\n",
    "\n",
    "\n",
    "* Problema 3: Selecionar os clientes que são homens e que são casados, ou os homens que não são casados mas que compraram na loja no último mês.\n",
    "    * Parte 3.1: Selecionar os clientes que são homens\n",
    "    * Parte 3.2: Selecionar os clientes que são casados\n",
    "    * Parte 3.3: Selecionar os clientes que compraram na loja no último mês"
   ]
  },
  {
   "cell_type": "markdown",
   "id": "0581d5ec",
   "metadata": {
    "heading_collapsed": true,
    "hidden": true
   },
   "source": [
    "## Solução\n"
   ]
  },
  {
   "cell_type": "code",
   "execution_count": 3,
   "id": "921d5d45",
   "metadata": {
    "ExecuteTime": {
     "end_time": "2021-09-24T23:56:06.509529Z",
     "start_time": "2021-09-24T23:56:06.507391Z"
    },
    "hidden": true
   },
   "outputs": [],
   "source": [
    "# Respostas\n",
    "mulheres = []\n",
    "homens = []"
   ]
  },
  {
   "cell_type": "code",
   "execution_count": 4,
   "id": "70463eab",
   "metadata": {
    "ExecuteTime": {
     "end_time": "2021-09-24T23:56:07.061319Z",
     "start_time": "2021-09-24T23:56:06.987491Z"
    },
    "hidden": true
   },
   "outputs": [],
   "source": [
    "# Versão Inicial\n",
    "for index, row in df.iterrows():\n",
    "    # Condicionais aqui\n",
    "    if (row['age'] >= 18):\n",
    "        if (row['age'] <= 65):\n",
    "            if (row['gender'] == 'Female'):\n",
    "                mulheres.append(row)\n",
    "            else:\n",
    "                if (row['married'] == True):\n",
    "                    homens.append(row)\n",
    "                elif (row['recently_bought'] == True):\n",
    "                    homens.append(row)"
   ]
  },
  {
   "cell_type": "code",
   "execution_count": 5,
   "id": "e9afedbe",
   "metadata": {
    "ExecuteTime": {
     "end_time": "2021-09-24T23:56:09.954566Z",
     "start_time": "2021-09-24T23:56:09.950506Z"
    },
    "hidden": true
   },
   "outputs": [
    {
     "data": {
      "text/plain": [
       "id                       1\n",
       "first_name         Kynthia\n",
       "gender              Female\n",
       "age                     59\n",
       "married              False\n",
       "recently_bought       True\n",
       "Name: 0, dtype: object"
      ]
     },
     "execution_count": 5,
     "metadata": {},
     "output_type": "execute_result"
    }
   ],
   "source": [
    "mulheres[0]"
   ]
  },
  {
   "cell_type": "code",
   "execution_count": 6,
   "id": "d35f2493",
   "metadata": {
    "ExecuteTime": {
     "end_time": "2021-09-24T23:56:10.933192Z",
     "start_time": "2021-09-24T23:56:10.929948Z"
    },
    "hidden": true
   },
   "outputs": [
    {
     "data": {
      "text/plain": [
       "id                       5\n",
       "first_name         Chrissy\n",
       "gender                Male\n",
       "age                     26\n",
       "married               True\n",
       "recently_bought      False\n",
       "Name: 4, dtype: object"
      ]
     },
     "execution_count": 6,
     "metadata": {},
     "output_type": "execute_result"
    }
   ],
   "source": [
    "homens[0]"
   ]
  },
  {
   "cell_type": "code",
   "execution_count": 12,
   "id": "024c369b",
   "metadata": {
    "ExecuteTime": {
     "end_time": "2021-09-24T23:57:38.698098Z",
     "start_time": "2021-09-24T23:57:38.695435Z"
    },
    "hidden": true
   },
   "outputs": [],
   "source": [
    "# Respostas\n",
    "mulheres_1 = []\n",
    "homens_1 = []"
   ]
  },
  {
   "cell_type": "code",
   "execution_count": 13,
   "id": "4b1e7a5e",
   "metadata": {
    "ExecuteTime": {
     "end_time": "2021-09-24T23:57:38.940088Z",
     "start_time": "2021-09-24T23:57:38.865162Z"
    },
    "hidden": true
   },
   "outputs": [],
   "source": [
    "# Versão Final\n",
    "for index, row in df.iterrows():\n",
    "    # Condicionais aqui\n",
    "    if (row['age'] >= 18 and row['age'] <= 65):\n",
    "        if (row['gender'] == 'Female'):\n",
    "            mulheres_1.append(row)\n",
    "        elif (row['married'] == True or row['recently_bought'] == True):\n",
    "                homens_1.append(row)"
   ]
  },
  {
   "cell_type": "code",
   "execution_count": 16,
   "id": "e87f5409",
   "metadata": {
    "ExecuteTime": {
     "end_time": "2021-09-24T23:57:43.921970Z",
     "start_time": "2021-09-24T23:57:43.918381Z"
    },
    "hidden": true
   },
   "outputs": [
    {
     "data": {
      "text/plain": [
       "id                       1\n",
       "first_name         Kynthia\n",
       "gender              Female\n",
       "age                     59\n",
       "married              False\n",
       "recently_bought       True\n",
       "Name: 0, dtype: object"
      ]
     },
     "execution_count": 16,
     "metadata": {},
     "output_type": "execute_result"
    }
   ],
   "source": [
    "mulheres_1[0]"
   ]
  },
  {
   "cell_type": "code",
   "execution_count": 18,
   "id": "d628d92c",
   "metadata": {
    "ExecuteTime": {
     "end_time": "2021-09-24T23:57:50.242499Z",
     "start_time": "2021-09-24T23:57:50.238734Z"
    },
    "hidden": true
   },
   "outputs": [
    {
     "data": {
      "text/plain": [
       "id                       5\n",
       "first_name         Chrissy\n",
       "gender                Male\n",
       "age                     26\n",
       "married               True\n",
       "recently_bought      False\n",
       "Name: 4, dtype: object"
      ]
     },
     "execution_count": 18,
     "metadata": {},
     "output_type": "execute_result"
    }
   ],
   "source": [
    "homens_1[0]"
   ]
  },
  {
   "cell_type": "markdown",
   "id": "f46e52a9",
   "metadata": {
    "heading_collapsed": true
   },
   "source": [
    "# Exemplo do IF\n"
   ]
  },
  {
   "cell_type": "markdown",
   "id": "b0168f1f",
   "metadata": {
    "heading_collapsed": true,
    "hidden": true
   },
   "source": [
    "## Estrutura De Teste"
   ]
  },
  {
   "cell_type": "code",
   "execution_count": 19,
   "id": "86af66ed",
   "metadata": {
    "ExecuteTime": {
     "end_time": "2021-09-24T23:57:52.873559Z",
     "start_time": "2021-09-24T23:57:52.856611Z"
    },
    "hidden": true
   },
   "outputs": [],
   "source": [
    "lista_clientes = [\n",
    "    {'id': 1,  'name': 'Pedro',     'gender': 'M', 'age': 32, 'married': True,  'recently_bought': True},\n",
    "    {'id': 2,  'name': 'Guilherme', 'gender': 'M', 'age': 23, 'married': False, 'recently_bought': True},\n",
    "    {'id': 3,  'name': 'Volpato',   'gender': 'M', 'age': 85, 'married': True,  'recently_bought': False},\n",
    "    {'id': 4,  'name': 'Ferraresi', 'gender': 'M', 'age': 83, 'married': False, 'recently_bought': False},\n",
    "    {'id': 5,  'name': 'Ana',       'gender': 'F', 'age': 29, 'married': True,  'recently_bought': True},\n",
    "    {'id': 6,  'name': 'Carolina',  'gender': 'F', 'age': 92, 'married': False, 'recently_bought': False},\n",
    "    {'id': 7,  'name': 'Curvina',   'gender': 'F', 'age': 44, 'married': False, 'recently_bought': False},\n",
    "    {'id': 8,  'name': 'Ubaldo',    'gender': 'F', 'age': 72, 'married': False, 'recently_bought': False},\n",
    "    {'id': 9,  'name': 'João',      'gender': 'M', 'age': 28, 'married': False, 'recently_bought': True},\n",
    "    {'id': 10, 'name': 'Gabriel',   'gender': 'M', 'age': 82, 'married': True,  'recently_bought': True},\n",
    "]"
   ]
  },
  {
   "cell_type": "code",
   "execution_count": 20,
   "id": "26a1e59b",
   "metadata": {
    "ExecuteTime": {
     "end_time": "2021-09-24T23:57:53.504817Z",
     "start_time": "2021-09-24T23:57:53.493140Z"
    },
    "hidden": true
   },
   "outputs": [
    {
     "name": "stdout",
     "output_type": "stream",
     "text": [
      "{'id': 1, 'name': 'Pedro', 'gender': 'M', 'age': 32, 'married': True, 'recently_bought': True}\n"
     ]
    }
   ],
   "source": [
    "for cliente in lista_clientes:\n",
    "    if (cliente['id'] == 1):\n",
    "        print(cliente)\n",
    "        break"
   ]
  },
  {
   "cell_type": "markdown",
   "id": "33d229b6",
   "metadata": {
    "heading_collapsed": true,
    "hidden": true
   },
   "source": [
    "## Exemplos"
   ]
  },
  {
   "cell_type": "markdown",
   "id": "16f9f18b",
   "metadata": {
    "heading_collapsed": true,
    "hidden": true
   },
   "source": [
    "### Selecione o cliente caso o nome dele seja Pedro"
   ]
  },
  {
   "cell_type": "code",
   "execution_count": 22,
   "id": "9e7568be",
   "metadata": {
    "ExecuteTime": {
     "end_time": "2021-09-24T23:58:29.478280Z",
     "start_time": "2021-09-24T23:58:29.472703Z"
    },
    "hidden": true
   },
   "outputs": [],
   "source": [
    "resposta = []\n",
    "\n",
    "for cliente in lista_clientes:\n",
    "    # Condicional aqui\n",
    "    if (cliente['name'] == 'Pedro'):\n",
    "        resposta.append(cliente)"
   ]
  },
  {
   "cell_type": "code",
   "execution_count": 23,
   "id": "eea9a658",
   "metadata": {
    "ExecuteTime": {
     "end_time": "2021-09-24T23:58:29.653515Z",
     "start_time": "2021-09-24T23:58:29.649385Z"
    },
    "hidden": true
   },
   "outputs": [
    {
     "data": {
      "text/plain": [
       "[{'id': 1,\n",
       "  'name': 'Pedro',\n",
       "  'gender': 'M',\n",
       "  'age': 32,\n",
       "  'married': True,\n",
       "  'recently_bought': True}]"
      ]
     },
     "execution_count": 23,
     "metadata": {},
     "output_type": "execute_result"
    }
   ],
   "source": [
    "resposta"
   ]
  },
  {
   "cell_type": "markdown",
   "id": "32bf4d2f",
   "metadata": {
    "heading_collapsed": true,
    "hidden": true
   },
   "source": [
    "### Selecione o cliente caso a idade dele seja maior que 30 anos"
   ]
  },
  {
   "cell_type": "code",
   "execution_count": 24,
   "id": "234b03bb",
   "metadata": {
    "ExecuteTime": {
     "end_time": "2021-09-24T23:58:51.449878Z",
     "start_time": "2021-09-24T23:58:51.439014Z"
    },
    "hidden": true
   },
   "outputs": [],
   "source": [
    "resposta = []\n",
    "\n",
    "for cliente in lista_clientes:\n",
    "    # Condicional aqui\n",
    "    if (cliente['age'] > 30):\n",
    "        resposta.append(cliente)"
   ]
  },
  {
   "cell_type": "code",
   "execution_count": 25,
   "id": "98af8d95",
   "metadata": {
    "ExecuteTime": {
     "end_time": "2021-09-24T23:58:51.556843Z",
     "start_time": "2021-09-24T23:58:51.546736Z"
    },
    "hidden": true
   },
   "outputs": [
    {
     "data": {
      "text/plain": [
       "[{'id': 1,\n",
       "  'name': 'Pedro',\n",
       "  'gender': 'M',\n",
       "  'age': 32,\n",
       "  'married': True,\n",
       "  'recently_bought': True},\n",
       " {'id': 3,\n",
       "  'name': 'Volpato',\n",
       "  'gender': 'M',\n",
       "  'age': 85,\n",
       "  'married': True,\n",
       "  'recently_bought': False},\n",
       " {'id': 4,\n",
       "  'name': 'Ferraresi',\n",
       "  'gender': 'M',\n",
       "  'age': 83,\n",
       "  'married': False,\n",
       "  'recently_bought': False},\n",
       " {'id': 6,\n",
       "  'name': 'Carolina',\n",
       "  'gender': 'F',\n",
       "  'age': 92,\n",
       "  'married': False,\n",
       "  'recently_bought': False},\n",
       " {'id': 7,\n",
       "  'name': 'Curvina',\n",
       "  'gender': 'F',\n",
       "  'age': 44,\n",
       "  'married': False,\n",
       "  'recently_bought': False},\n",
       " {'id': 8,\n",
       "  'name': 'Ubaldo',\n",
       "  'gender': 'F',\n",
       "  'age': 72,\n",
       "  'married': False,\n",
       "  'recently_bought': False},\n",
       " {'id': 10,\n",
       "  'name': 'Gabriel',\n",
       "  'gender': 'M',\n",
       "  'age': 82,\n",
       "  'married': True,\n",
       "  'recently_bought': True}]"
      ]
     },
     "execution_count": 25,
     "metadata": {},
     "output_type": "execute_result"
    }
   ],
   "source": [
    "resposta"
   ]
  },
  {
   "cell_type": "markdown",
   "id": "bb4681ec",
   "metadata": {
    "heading_collapsed": true,
    "hidden": true
   },
   "source": [
    "### Selecione os clientes que tenham comprado recentemente"
   ]
  },
  {
   "cell_type": "code",
   "execution_count": 26,
   "id": "8aaf17b2",
   "metadata": {
    "ExecuteTime": {
     "end_time": "2021-09-24T23:59:30.645438Z",
     "start_time": "2021-09-24T23:59:30.640281Z"
    },
    "hidden": true
   },
   "outputs": [],
   "source": [
    "resposta = []\n",
    "\n",
    "for cliente in lista_clientes:\n",
    "    # Condicional aqui\n",
    "    if (cliente['recently_bought']):\n",
    "        resposta.append(cliente)"
   ]
  },
  {
   "cell_type": "code",
   "execution_count": 27,
   "id": "ec974531",
   "metadata": {
    "ExecuteTime": {
     "end_time": "2021-09-24T23:59:31.182584Z",
     "start_time": "2021-09-24T23:59:31.169457Z"
    },
    "hidden": true
   },
   "outputs": [
    {
     "data": {
      "text/plain": [
       "[{'id': 1,\n",
       "  'name': 'Pedro',\n",
       "  'gender': 'M',\n",
       "  'age': 32,\n",
       "  'married': True,\n",
       "  'recently_bought': True},\n",
       " {'id': 2,\n",
       "  'name': 'Guilherme',\n",
       "  'gender': 'M',\n",
       "  'age': 23,\n",
       "  'married': False,\n",
       "  'recently_bought': True},\n",
       " {'id': 5,\n",
       "  'name': 'Ana',\n",
       "  'gender': 'F',\n",
       "  'age': 29,\n",
       "  'married': True,\n",
       "  'recently_bought': True},\n",
       " {'id': 9,\n",
       "  'name': 'João',\n",
       "  'gender': 'M',\n",
       "  'age': 28,\n",
       "  'married': False,\n",
       "  'recently_bought': True},\n",
       " {'id': 10,\n",
       "  'name': 'Gabriel',\n",
       "  'gender': 'M',\n",
       "  'age': 82,\n",
       "  'married': True,\n",
       "  'recently_bought': True}]"
      ]
     },
     "execution_count": 27,
     "metadata": {},
     "output_type": "execute_result"
    }
   ],
   "source": [
    "resposta"
   ]
  },
  {
   "cell_type": "markdown",
   "id": "6e2808ad",
   "metadata": {
    "heading_collapsed": true,
    "hidden": true
   },
   "source": [
    "### Selecione os clientes que sejam mulheres e homens em listas separadas"
   ]
  },
  {
   "cell_type": "code",
   "execution_count": 28,
   "id": "f81f6b81",
   "metadata": {
    "ExecuteTime": {
     "end_time": "2021-09-25T00:00:19.046826Z",
     "start_time": "2021-09-25T00:00:19.044318Z"
    },
    "hidden": true
   },
   "outputs": [],
   "source": [
    "mulheres = []\n",
    "homens = []\n",
    "\n",
    "for cliente in lista_clientes:\n",
    "    # Condicional aqui\n",
    "    if (cliente['gender'] == 'F'):\n",
    "        mulheres.append(cliente)\n",
    "    else:\n",
    "        homens.append(cliente)"
   ]
  },
  {
   "cell_type": "code",
   "execution_count": 29,
   "id": "097fe7db",
   "metadata": {
    "ExecuteTime": {
     "end_time": "2021-09-25T00:00:19.183906Z",
     "start_time": "2021-09-25T00:00:19.179067Z"
    },
    "hidden": true
   },
   "outputs": [
    {
     "data": {
      "text/plain": [
       "[{'id': 1,\n",
       "  'name': 'Pedro',\n",
       "  'gender': 'M',\n",
       "  'age': 32,\n",
       "  'married': True,\n",
       "  'recently_bought': True},\n",
       " {'id': 2,\n",
       "  'name': 'Guilherme',\n",
       "  'gender': 'M',\n",
       "  'age': 23,\n",
       "  'married': False,\n",
       "  'recently_bought': True},\n",
       " {'id': 3,\n",
       "  'name': 'Volpato',\n",
       "  'gender': 'M',\n",
       "  'age': 85,\n",
       "  'married': True,\n",
       "  'recently_bought': False},\n",
       " {'id': 4,\n",
       "  'name': 'Ferraresi',\n",
       "  'gender': 'M',\n",
       "  'age': 83,\n",
       "  'married': False,\n",
       "  'recently_bought': False},\n",
       " {'id': 9,\n",
       "  'name': 'João',\n",
       "  'gender': 'M',\n",
       "  'age': 28,\n",
       "  'married': False,\n",
       "  'recently_bought': True},\n",
       " {'id': 10,\n",
       "  'name': 'Gabriel',\n",
       "  'gender': 'M',\n",
       "  'age': 82,\n",
       "  'married': True,\n",
       "  'recently_bought': True}]"
      ]
     },
     "execution_count": 29,
     "metadata": {},
     "output_type": "execute_result"
    }
   ],
   "source": [
    "homens"
   ]
  },
  {
   "cell_type": "code",
   "execution_count": 30,
   "id": "f9afc29b",
   "metadata": {
    "ExecuteTime": {
     "end_time": "2021-09-25T00:00:19.978168Z",
     "start_time": "2021-09-25T00:00:19.974884Z"
    },
    "hidden": true
   },
   "outputs": [
    {
     "data": {
      "text/plain": [
       "[{'id': 5,\n",
       "  'name': 'Ana',\n",
       "  'gender': 'F',\n",
       "  'age': 29,\n",
       "  'married': True,\n",
       "  'recently_bought': True},\n",
       " {'id': 6,\n",
       "  'name': 'Carolina',\n",
       "  'gender': 'F',\n",
       "  'age': 92,\n",
       "  'married': False,\n",
       "  'recently_bought': False},\n",
       " {'id': 7,\n",
       "  'name': 'Curvina',\n",
       "  'gender': 'F',\n",
       "  'age': 44,\n",
       "  'married': False,\n",
       "  'recently_bought': False},\n",
       " {'id': 8,\n",
       "  'name': 'Ubaldo',\n",
       "  'gender': 'F',\n",
       "  'age': 72,\n",
       "  'married': False,\n",
       "  'recently_bought': False}]"
      ]
     },
     "execution_count": 30,
     "metadata": {},
     "output_type": "execute_result"
    }
   ],
   "source": [
    "mulheres"
   ]
  },
  {
   "cell_type": "markdown",
   "id": "72b7bae8",
   "metadata": {
    "heading_collapsed": true,
    "hidden": true
   },
   "source": [
    "### Faça a seguinte seleção\n",
    "\n",
    "Selecione os clientes que são casado e não casados. \n",
    "* Dos que são casados, selecione os que compraram e os que não compraram recentemente na loja. \n",
    "* Dos não casasdos, separe os que são homens. \n",
    "    * Dos homens separados, selecione os que tem idade maior que 35 anos\n",
    "    * Dos homens separados que não tem idade maior que 35 anos, separe o cliente que tem o nome de Pedro\n",
    "    "
   ]
  },
  {
   "cell_type": "code",
   "execution_count": 52,
   "id": "6ae923af",
   "metadata": {
    "ExecuteTime": {
     "end_time": "2021-09-25T00:09:27.817225Z",
     "start_time": "2021-09-25T00:09:27.811585Z"
    },
    "hidden": true
   },
   "outputs": [],
   "source": [
    "# respostas\n",
    "casados = []\n",
    "nao_casados = []\n",
    "compraram = []\n",
    "nao_compraram = []\n",
    "homens = []\n",
    "maior_35 = []\n",
    "joao = []"
   ]
  },
  {
   "cell_type": "code",
   "execution_count": 53,
   "id": "75a6819d",
   "metadata": {
    "ExecuteTime": {
     "end_time": "2021-09-25T00:09:27.965193Z",
     "start_time": "2021-09-25T00:09:27.960518Z"
    },
    "hidden": true
   },
   "outputs": [],
   "source": [
    "for cliente in lista_clientes:\n",
    "    # Condicional aqui\n",
    "    # Clientes Casados\n",
    "    if (cliente['married']):\n",
    "        casados.append(cliente)\n",
    "        \n",
    "        # Compraram Recentemente\n",
    "        if (cliente['recently_bought']):\n",
    "            compraram.append(cliente)\n",
    "        else: # Não Compraram Recentemente\n",
    "            nao_compraram.append(cliente)\n",
    "            \n",
    "    else: # Clientes não casados\n",
    "        nao_casados.append(cliente)\n",
    "        \n",
    "        # Clientes que são homens\n",
    "        if (cliente['gender'] == 'M'):\n",
    "            homens.append(cliente)\n",
    "            \n",
    "            # Homens que idade maior que 35 anos\n",
    "            if (cliente['age'] > 35):\n",
    "                maior_35.append(cliente)\n",
    "            \n",
    "            # Homens que não tem a idade maior que 35 anos\n",
    "            elif (cliente['name'] == 'João'): \n",
    "                joao.append(cliente)"
   ]
  },
  {
   "cell_type": "code",
   "execution_count": 54,
   "id": "d2ff6f29",
   "metadata": {
    "ExecuteTime": {
     "end_time": "2021-09-25T00:09:28.121847Z",
     "start_time": "2021-09-25T00:09:28.117652Z"
    },
    "hidden": true
   },
   "outputs": [
    {
     "data": {
      "text/plain": [
       "[{'id': 1,\n",
       "  'name': 'Pedro',\n",
       "  'gender': 'M',\n",
       "  'age': 32,\n",
       "  'married': True,\n",
       "  'recently_bought': True},\n",
       " {'id': 3,\n",
       "  'name': 'Volpato',\n",
       "  'gender': 'M',\n",
       "  'age': 85,\n",
       "  'married': True,\n",
       "  'recently_bought': False},\n",
       " {'id': 5,\n",
       "  'name': 'Ana',\n",
       "  'gender': 'F',\n",
       "  'age': 29,\n",
       "  'married': True,\n",
       "  'recently_bought': True},\n",
       " {'id': 10,\n",
       "  'name': 'Gabriel',\n",
       "  'gender': 'M',\n",
       "  'age': 82,\n",
       "  'married': True,\n",
       "  'recently_bought': True}]"
      ]
     },
     "execution_count": 54,
     "metadata": {},
     "output_type": "execute_result"
    }
   ],
   "source": [
    "casados"
   ]
  },
  {
   "cell_type": "code",
   "execution_count": 55,
   "id": "d152d39b",
   "metadata": {
    "ExecuteTime": {
     "end_time": "2021-09-25T00:09:28.432136Z",
     "start_time": "2021-09-25T00:09:28.420161Z"
    },
    "hidden": true
   },
   "outputs": [
    {
     "data": {
      "text/plain": [
       "[{'id': 2,\n",
       "  'name': 'Guilherme',\n",
       "  'gender': 'M',\n",
       "  'age': 23,\n",
       "  'married': False,\n",
       "  'recently_bought': True},\n",
       " {'id': 4,\n",
       "  'name': 'Ferraresi',\n",
       "  'gender': 'M',\n",
       "  'age': 83,\n",
       "  'married': False,\n",
       "  'recently_bought': False},\n",
       " {'id': 6,\n",
       "  'name': 'Carolina',\n",
       "  'gender': 'F',\n",
       "  'age': 92,\n",
       "  'married': False,\n",
       "  'recently_bought': False},\n",
       " {'id': 7,\n",
       "  'name': 'Curvina',\n",
       "  'gender': 'F',\n",
       "  'age': 44,\n",
       "  'married': False,\n",
       "  'recently_bought': False},\n",
       " {'id': 8,\n",
       "  'name': 'Ubaldo',\n",
       "  'gender': 'F',\n",
       "  'age': 72,\n",
       "  'married': False,\n",
       "  'recently_bought': False},\n",
       " {'id': 9,\n",
       "  'name': 'João',\n",
       "  'gender': 'M',\n",
       "  'age': 28,\n",
       "  'married': False,\n",
       "  'recently_bought': True}]"
      ]
     },
     "execution_count": 55,
     "metadata": {},
     "output_type": "execute_result"
    }
   ],
   "source": [
    "nao_casados"
   ]
  },
  {
   "cell_type": "code",
   "execution_count": 56,
   "id": "fd6f198c",
   "metadata": {
    "ExecuteTime": {
     "end_time": "2021-09-25T00:09:28.585929Z",
     "start_time": "2021-09-25T00:09:28.582678Z"
    },
    "hidden": true
   },
   "outputs": [
    {
     "data": {
      "text/plain": [
       "[{'id': 1,\n",
       "  'name': 'Pedro',\n",
       "  'gender': 'M',\n",
       "  'age': 32,\n",
       "  'married': True,\n",
       "  'recently_bought': True},\n",
       " {'id': 5,\n",
       "  'name': 'Ana',\n",
       "  'gender': 'F',\n",
       "  'age': 29,\n",
       "  'married': True,\n",
       "  'recently_bought': True},\n",
       " {'id': 10,\n",
       "  'name': 'Gabriel',\n",
       "  'gender': 'M',\n",
       "  'age': 82,\n",
       "  'married': True,\n",
       "  'recently_bought': True}]"
      ]
     },
     "execution_count": 56,
     "metadata": {},
     "output_type": "execute_result"
    }
   ],
   "source": [
    "compraram"
   ]
  },
  {
   "cell_type": "code",
   "execution_count": 57,
   "id": "d026c1bf",
   "metadata": {
    "ExecuteTime": {
     "end_time": "2021-09-25T00:09:28.856828Z",
     "start_time": "2021-09-25T00:09:28.851458Z"
    },
    "hidden": true
   },
   "outputs": [
    {
     "data": {
      "text/plain": [
       "[{'id': 3,\n",
       "  'name': 'Volpato',\n",
       "  'gender': 'M',\n",
       "  'age': 85,\n",
       "  'married': True,\n",
       "  'recently_bought': False}]"
      ]
     },
     "execution_count": 57,
     "metadata": {},
     "output_type": "execute_result"
    }
   ],
   "source": [
    "nao_compraram"
   ]
  },
  {
   "cell_type": "code",
   "execution_count": 58,
   "id": "a8c0424a",
   "metadata": {
    "ExecuteTime": {
     "end_time": "2021-09-25T00:09:29.149693Z",
     "start_time": "2021-09-25T00:09:29.144868Z"
    },
    "hidden": true
   },
   "outputs": [
    {
     "data": {
      "text/plain": [
       "[{'id': 4,\n",
       "  'name': 'Ferraresi',\n",
       "  'gender': 'M',\n",
       "  'age': 83,\n",
       "  'married': False,\n",
       "  'recently_bought': False}]"
      ]
     },
     "execution_count": 58,
     "metadata": {},
     "output_type": "execute_result"
    }
   ],
   "source": [
    "maior_35"
   ]
  },
  {
   "cell_type": "code",
   "execution_count": 59,
   "id": "e3dfd0ae",
   "metadata": {
    "ExecuteTime": {
     "end_time": "2021-09-25T00:09:29.474837Z",
     "start_time": "2021-09-25T00:09:29.468540Z"
    },
    "hidden": true
   },
   "outputs": [
    {
     "data": {
      "text/plain": [
       "[{'id': 9,\n",
       "  'name': 'João',\n",
       "  'gender': 'M',\n",
       "  'age': 28,\n",
       "  'married': False,\n",
       "  'recently_bought': True}]"
      ]
     },
     "execution_count": 59,
     "metadata": {},
     "output_type": "execute_result"
    }
   ],
   "source": [
    "joao"
   ]
  },
  {
   "cell_type": "markdown",
   "id": "39dc4ae6",
   "metadata": {
    "heading_collapsed": true
   },
   "source": [
    "# Operadores Lógicos\n",
    "\n",
    "Utilizando a lista criada no exemplo do *if*, selecione os clientes com base no pedido\n"
   ]
  },
  {
   "cell_type": "code",
   "execution_count": 62,
   "id": "0edda32e",
   "metadata": {
    "ExecuteTime": {
     "end_time": "2021-09-25T17:53:14.701472Z",
     "start_time": "2021-09-25T17:53:14.697266Z"
    },
    "hidden": true
   },
   "outputs": [],
   "source": [
    "lista_clientes = [\n",
    "    {'id': 1,  'name': 'Pedro',     'gender': 'M', 'age': 32, 'married': True,  'recently_bought': True},\n",
    "    {'id': 2,  'name': 'Guilherme', 'gender': 'M', 'age': 23, 'married': False, 'recently_bought': True},\n",
    "    {'id': 3,  'name': 'Volpato',   'gender': 'M', 'age': 85, 'married': True,  'recently_bought': False},\n",
    "    {'id': 4,  'name': 'Ferraresi', 'gender': 'M', 'age': 83, 'married': False, 'recently_bought': False},\n",
    "    {'id': 5,  'name': 'Ana',       'gender': 'F', 'age': 29, 'married': True,  'recently_bought': True},\n",
    "    {'id': 6,  'name': 'Carolina',  'gender': 'F', 'age': 92, 'married': False, 'recently_bought': False},\n",
    "    {'id': 7,  'name': 'Curvina',   'gender': 'F', 'age': 44, 'married': False, 'recently_bought': False},\n",
    "    {'id': 8,  'name': 'Ubaldo',    'gender': 'F', 'age': 72, 'married': False, 'recently_bought': False},\n",
    "    {'id': 9,  'name': 'João',      'gender': 'M', 'age': 28, 'married': False, 'recently_bought': True},\n",
    "    {'id': 10, 'name': 'Gabriel',   'gender': 'M', 'age': 82, 'married': True,  'recently_bought': True},\n",
    "]"
   ]
  },
  {
   "cell_type": "markdown",
   "id": "93399132",
   "metadata": {
    "heading_collapsed": true,
    "hidden": true
   },
   "source": [
    "### 1. Operador E (AND) - Selecione os clientes que sejam casados E que tenham comprado recentemente na loja\n"
   ]
  },
  {
   "cell_type": "code",
   "execution_count": 72,
   "id": "1f78b307",
   "metadata": {
    "ExecuteTime": {
     "end_time": "2021-09-25T17:58:01.731010Z",
     "start_time": "2021-09-25T17:58:01.723120Z"
    },
    "hidden": true
   },
   "outputs": [],
   "source": [
    "resposta_1 = []\n",
    "\n",
    "for cliente in lista_clientes:\n",
    "    # Condicional aqui\n",
    "    if (cliente['married'] == True and cliente['recently_bought'] == True):\n",
    "        resposta_1.append(cliente)"
   ]
  },
  {
   "cell_type": "code",
   "execution_count": 73,
   "id": "43edec5c",
   "metadata": {
    "ExecuteTime": {
     "end_time": "2021-09-25T17:58:01.892938Z",
     "start_time": "2021-09-25T17:58:01.885260Z"
    },
    "hidden": true
   },
   "outputs": [
    {
     "data": {
      "text/plain": [
       "[{'id': 1,\n",
       "  'name': 'Pedro',\n",
       "  'gender': 'M',\n",
       "  'age': 32,\n",
       "  'married': True,\n",
       "  'recently_bought': True},\n",
       " {'id': 5,\n",
       "  'name': 'Ana',\n",
       "  'gender': 'F',\n",
       "  'age': 29,\n",
       "  'married': True,\n",
       "  'recently_bought': True},\n",
       " {'id': 10,\n",
       "  'name': 'Gabriel',\n",
       "  'gender': 'M',\n",
       "  'age': 82,\n",
       "  'married': True,\n",
       "  'recently_bought': True}]"
      ]
     },
     "execution_count": 73,
     "metadata": {},
     "output_type": "execute_result"
    }
   ],
   "source": [
    "resposta_1"
   ]
  },
  {
   "cell_type": "markdown",
   "id": "05018ddb",
   "metadata": {
    "heading_collapsed": true,
    "hidden": true
   },
   "source": [
    "### 2. Operador OU (OR) - Selecione os clientes que não sejam casados OU que sejam mulheres\n"
   ]
  },
  {
   "cell_type": "code",
   "execution_count": 76,
   "id": "d5d474e7",
   "metadata": {
    "ExecuteTime": {
     "end_time": "2021-09-25T17:58:53.194936Z",
     "start_time": "2021-09-25T17:58:53.192833Z"
    },
    "hidden": true
   },
   "outputs": [],
   "source": [
    "resposta_2 = []\n",
    "\n",
    "for cliente in lista_clientes:\n",
    "    # Condicional aqui\n",
    "    if (cliente['married'] == False or cliente['gender'] == 'F'):\n",
    "        resposta_2.append(cliente)"
   ]
  },
  {
   "cell_type": "code",
   "execution_count": 77,
   "id": "84129506",
   "metadata": {
    "ExecuteTime": {
     "end_time": "2021-09-25T17:58:53.431770Z",
     "start_time": "2021-09-25T17:58:53.424644Z"
    },
    "hidden": true
   },
   "outputs": [
    {
     "data": {
      "text/plain": [
       "[{'id': 2,\n",
       "  'name': 'Guilherme',\n",
       "  'gender': 'M',\n",
       "  'age': 23,\n",
       "  'married': False,\n",
       "  'recently_bought': True},\n",
       " {'id': 4,\n",
       "  'name': 'Ferraresi',\n",
       "  'gender': 'M',\n",
       "  'age': 83,\n",
       "  'married': False,\n",
       "  'recently_bought': False},\n",
       " {'id': 5,\n",
       "  'name': 'Ana',\n",
       "  'gender': 'F',\n",
       "  'age': 29,\n",
       "  'married': True,\n",
       "  'recently_bought': True},\n",
       " {'id': 6,\n",
       "  'name': 'Carolina',\n",
       "  'gender': 'F',\n",
       "  'age': 92,\n",
       "  'married': False,\n",
       "  'recently_bought': False},\n",
       " {'id': 7,\n",
       "  'name': 'Curvina',\n",
       "  'gender': 'F',\n",
       "  'age': 44,\n",
       "  'married': False,\n",
       "  'recently_bought': False},\n",
       " {'id': 8,\n",
       "  'name': 'Ubaldo',\n",
       "  'gender': 'F',\n",
       "  'age': 72,\n",
       "  'married': False,\n",
       "  'recently_bought': False},\n",
       " {'id': 9,\n",
       "  'name': 'João',\n",
       "  'gender': 'M',\n",
       "  'age': 28,\n",
       "  'married': False,\n",
       "  'recently_bought': True}]"
      ]
     },
     "execution_count": 77,
     "metadata": {},
     "output_type": "execute_result"
    }
   ],
   "source": [
    "resposta_2"
   ]
  },
  {
   "cell_type": "markdown",
   "id": "d3cec169",
   "metadata": {
    "heading_collapsed": true,
    "hidden": true
   },
   "source": [
    "### 3. Operador de Negação (NOT) - Utilizando o operador de Negação, selecione os clientes que são mulheres e não são casados"
   ]
  },
  {
   "cell_type": "code",
   "execution_count": 80,
   "id": "81c81c17",
   "metadata": {
    "ExecuteTime": {
     "end_time": "2021-09-25T18:00:45.809975Z",
     "start_time": "2021-09-25T18:00:45.807590Z"
    },
    "hidden": true
   },
   "outputs": [],
   "source": [
    "resposta_3 = []\n",
    "\n",
    "for cliente in lista_clientes:\n",
    "    # Condicional aqui\n",
    "    if (cliente['gender'] == 'F' and not(cliente['married'] == True) ):\n",
    "        resposta_3.append(cliente)"
   ]
  },
  {
   "cell_type": "code",
   "execution_count": 82,
   "id": "28090905",
   "metadata": {
    "ExecuteTime": {
     "end_time": "2021-09-25T18:00:52.414277Z",
     "start_time": "2021-09-25T18:00:52.403854Z"
    },
    "hidden": true
   },
   "outputs": [
    {
     "data": {
      "text/plain": [
       "[{'id': 6,\n",
       "  'name': 'Carolina',\n",
       "  'gender': 'F',\n",
       "  'age': 92,\n",
       "  'married': False,\n",
       "  'recently_bought': False},\n",
       " {'id': 7,\n",
       "  'name': 'Curvina',\n",
       "  'gender': 'F',\n",
       "  'age': 44,\n",
       "  'married': False,\n",
       "  'recently_bought': False},\n",
       " {'id': 8,\n",
       "  'name': 'Ubaldo',\n",
       "  'gender': 'F',\n",
       "  'age': 72,\n",
       "  'married': False,\n",
       "  'recently_bought': False}]"
      ]
     },
     "execution_count": 82,
     "metadata": {},
     "output_type": "execute_result"
    }
   ],
   "source": [
    "resposta_3"
   ]
  },
  {
   "cell_type": "code",
   "execution_count": null,
   "id": "ff1710ec",
   "metadata": {},
   "outputs": [],
   "source": [
    "."
   ]
  }
 ],
 "metadata": {
  "kernelspec": {
   "display_name": "Python 3 (ipykernel)",
   "language": "python",
   "name": "python3"
  },
  "language_info": {
   "codemirror_mode": {
    "name": "ipython",
    "version": 3
   },
   "file_extension": ".py",
   "mimetype": "text/x-python",
   "name": "python",
   "nbconvert_exporter": "python",
   "pygments_lexer": "ipython3",
   "version": "3.9.7"
  },
  "latex_envs": {
   "LaTeX_envs_menu_present": true,
   "autoclose": false,
   "autocomplete": true,
   "bibliofile": "biblio.bib",
   "cite_by": "apalike",
   "current_citInitial": 1,
   "eqLabelWithNumbers": true,
   "eqNumInitial": 1,
   "hotkeys": {
    "equation": "Ctrl-E",
    "itemize": "Ctrl-I"
   },
   "labels_anchors": false,
   "latex_user_defs": false,
   "report_style_numbering": false,
   "user_envs_cfg": false
  }
 },
 "nbformat": 4,
 "nbformat_minor": 5
}
